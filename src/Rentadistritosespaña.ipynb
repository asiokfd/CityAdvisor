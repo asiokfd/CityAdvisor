{
 "cells": [
  {
   "cell_type": "markdown",
   "id": "f0c9af3b",
   "metadata": {},
   "source": [
    "### En este jupyter obtendremos y guardaremos la renta media para cada código postal en España\n"
   ]
  },
  {
   "cell_type": "code",
   "execution_count": 38,
   "id": "9cc8ea0d",
   "metadata": {},
   "outputs": [],
   "source": [
    "from scrap import get_df\n",
    "from selenium import webdriver\n",
    "from scrap import limpia_codigo"
   ]
  },
  {
   "cell_type": "markdown",
   "id": "0e95e14e",
   "metadata": {},
   "source": [
    "Para ello, scrapearemos unna url y nos quedaremos con una tabla, que guardaremos como csv. En el escrapeo voy manualmente hasta la tabla, es decir, acepto cookies y hago un scroll a mano."
   ]
  },
  {
   "cell_type": "code",
   "execution_count": 2,
   "id": "038dbe67",
   "metadata": {},
   "outputs": [],
   "source": [
    "xpath= \"/html/body/div/div/section/div/div[4]/div/article/div[2]/div/div[3]/div/table/tbody\"\n",
    "url = \"https://www.epdata.es/datos/renta-bruta-barrios-codigos-postales-estadistica-datos/269\""
   ]
  },
  {
   "cell_type": "code",
   "execution_count": 27,
   "id": "6d7a531f",
   "metadata": {},
   "outputs": [],
   "source": [
    "driver = webdriver.Chrome()\n",
    "driver.implicitly_wait(3)"
   ]
  },
  {
   "cell_type": "code",
   "execution_count": 4,
   "id": "341d1937",
   "metadata": {},
   "outputs": [],
   "source": [
    "driver.get (url)"
   ]
  },
  {
   "cell_type": "code",
   "execution_count": 5,
   "id": "e6dd7562",
   "metadata": {},
   "outputs": [],
   "source": [
    "body=driver.find_element_by_xpath (xpath)"
   ]
  },
  {
   "cell_type": "code",
   "execution_count": 8,
   "id": "490cbeda",
   "metadata": {},
   "outputs": [],
   "source": [
    "df=get_df (body)"
   ]
  },
  {
   "cell_type": "markdown",
   "id": "f64f043a",
   "metadata": {},
   "source": [
    "Nos sobra un poquito de texto, y lo recortamos"
   ]
  },
  {
   "cell_type": "code",
   "execution_count": 9,
   "id": "4a888949",
   "metadata": {},
   "outputs": [],
   "source": [
    "df[\"codigo postal\"]=df[\"codigo postal\"].apply (limpia_codigo)"
   ]
  },
  {
   "cell_type": "code",
   "execution_count": 23,
   "id": "7fca5baa",
   "metadata": {},
   "outputs": [],
   "source": [
    "df.to_csv (\"../Data/rentaporcp.csv\")"
   ]
  }
 ],
 "metadata": {
  "kernelspec": {
   "display_name": "Python 3",
   "language": "python",
   "name": "python3"
  },
  "language_info": {
   "codemirror_mode": {
    "name": "ipython",
    "version": 3
   },
   "file_extension": ".py",
   "mimetype": "text/x-python",
   "name": "python",
   "nbconvert_exporter": "python",
   "pygments_lexer": "ipython3",
   "version": "3.7.10"
  }
 },
 "nbformat": 4,
 "nbformat_minor": 5
}
