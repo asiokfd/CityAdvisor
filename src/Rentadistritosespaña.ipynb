{
 "cells": [
  {
   "cell_type": "markdown",
   "id": "adf5878e",
   "metadata": {},
   "source": [
    "### En este jupyter obtendremos y guardaremos la renta media para cada código postal en España\n"
   ]
  },
  {
   "cell_type": "code",
   "execution_count": 1,
   "id": "910cd57f",
   "metadata": {},
   "outputs": [],
   "source": [
    "from scrap import get_df\n",
    "from selenium import webdriver\n",
    "from scrap import limpia_codigo"
   ]
  },
  {
   "cell_type": "code",
   "execution_count": 2,
   "id": "1208e707",
   "metadata": {},
   "outputs": [],
   "source": [
    "xpath= \"/html/body/div/div/section/div/div[4]/div/article/div[2]/div/div[3]/div/table/tbody\"\n",
    "url = \"https://www.epdata.es/datos/renta-bruta-barrios-codigos-postales-estadistica-datos/269\""
   ]
  },
  {
   "cell_type": "code",
   "execution_count": 3,
   "id": "2665decd",
   "metadata": {},
   "outputs": [],
   "source": [
    "driver = webdriver.Chrome()\n",
    "driver.implicitly_wait(3)"
   ]
  },
  {
   "cell_type": "code",
   "execution_count": 4,
   "id": "19e03770",
   "metadata": {},
   "outputs": [],
   "source": [
    "driver.get (url)"
   ]
  },
  {
   "cell_type": "code",
   "execution_count": 5,
   "id": "a629346d",
   "metadata": {},
   "outputs": [],
   "source": [
    "body=driver.find_element_by_xpath (xpath)"
   ]
  },
  {
   "cell_type": "code",
   "execution_count": 8,
   "id": "44928dc0",
   "metadata": {},
   "outputs": [],
   "source": [
    "df=get_df (body)"
   ]
  },
  {
   "cell_type": "code",
   "execution_count": 9,
   "id": "c956ab1f",
   "metadata": {},
   "outputs": [],
   "source": [
    "df[\"codigo postal\"]=df[\"codigo postal\"].apply (limpia_codigo)"
   ]
  },
  {
   "cell_type": "code",
   "execution_count": 10,
   "id": "848f7b4c",
   "metadata": {},
   "outputs": [],
   "source": [
    "df.to_csv (\"../Data/rentaporcp.csv\")"
   ]
  },
  {
   "cell_type": "code",
   "execution_count": null,
   "id": "28f0bd6b",
   "metadata": {},
   "outputs": [],
   "source": []
  }
 ],
 "metadata": {
  "kernelspec": {
   "display_name": "Python 3",
   "language": "python",
   "name": "python3"
  },
  "language_info": {
   "codemirror_mode": {
    "name": "ipython",
    "version": 3
   },
   "file_extension": ".py",
   "mimetype": "text/x-python",
   "name": "python",
   "nbconvert_exporter": "python",
   "pygments_lexer": "ipython3",
   "version": "3.7.10"
  }
 },
 "nbformat": 4,
 "nbformat_minor": 5
}
