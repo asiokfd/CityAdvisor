{
 "cells": [
  {
   "cell_type": "markdown",
   "id": "3575799c",
   "metadata": {},
   "source": [
    "### En este jupyter obtendremos y guardaremos la renta media para cada código postal en España\n"
   ]
  },
  {
   "cell_type": "code",
   "execution_count": 1,
   "id": "2197367c",
   "metadata": {},
   "outputs": [],
   "source": [
    "from scrap import get_df\n",
    "from selenium import webdriver\n",
    "from scrap import limpia_codigo"
   ]
  },
  {
   "cell_type": "code",
   "execution_count": 2,
   "id": "766829b3",
   "metadata": {},
   "outputs": [],
   "source": [
    "xpath= \"/html/body/div/div/section/div/div[4]/div/article/div[2]/div/div[3]/div/table/tbody\"\n",
    "url = \"https://www.epdata.es/datos/renta-bruta-barrios-codigos-postales-estadistica-datos/269\""
   ]
  },
  {
   "cell_type": "code",
   "execution_count": 3,
   "id": "70badc1e",
   "metadata": {},
   "outputs": [],
   "source": [
    "driver = webdriver.Chrome()\n",
    "driver.implicitly_wait(3)"
   ]
  },
  {
   "cell_type": "code",
   "execution_count": 4,
   "id": "47c7785d",
   "metadata": {},
   "outputs": [],
   "source": [
    "driver.get (url)"
   ]
  },
  {
   "cell_type": "code",
   "execution_count": 5,
   "id": "d0bd7315",
   "metadata": {},
   "outputs": [],
   "source": [
    "body=driver.find_element_by_xpath (xpath)"
   ]
  },
  {
   "cell_type": "code",
   "execution_count": 8,
   "id": "51136ffb",
   "metadata": {},
   "outputs": [],
   "source": [
    "df=get_df (body)"
   ]
  },
  {
   "cell_type": "code",
   "execution_count": 9,
   "id": "e5346b60",
   "metadata": {},
   "outputs": [],
   "source": [
    "df[\"codigo postal\"]=df[\"codigo postal\"].apply (limpia_codigo)"
   ]
  },
  {
   "cell_type": "code",
   "execution_count": 23,
   "id": "019b6a5b",
   "metadata": {},
   "outputs": [],
   "source": [
    "df.to_csv (\"../Data/rentaporcp.csv\")"
   ]
  },
  {
   "cell_type": "code",
   "execution_count": 19,
   "id": "43e44fd5",
   "metadata": {},
   "outputs": [
    {
     "data": {
      "text/plain": [
       "'28025'"
      ]
     },
     "execution_count": 19,
     "metadata": {},
     "output_type": "execute_result"
    }
   ],
   "source": [
    "df[\"codigo postal\"][254]"
   ]
  },
  {
   "cell_type": "code",
   "execution_count": null,
   "id": "2adc73c8",
   "metadata": {},
   "outputs": [],
   "source": [
    "df[\"codigo postal\"][254]"
   ]
  },
  {
   "cell_type": "code",
   "execution_count": 21,
   "id": "7864fc07",
   "metadata": {},
   "outputs": [
    {
     "data": {
      "text/plain": [
       "'20.457'"
      ]
     },
     "execution_count": 21,
     "metadata": {},
     "output_type": "execute_result"
    }
   ],
   "source": [
    "df[\"renta disponible media\"][254]"
   ]
  },
  {
   "cell_type": "code",
   "execution_count": 24,
   "id": "e6c83707",
   "metadata": {},
   "outputs": [
    {
     "data": {
      "text/html": [
       "<div>\n",
       "<style scoped>\n",
       "    .dataframe tbody tr th:only-of-type {\n",
       "        vertical-align: middle;\n",
       "    }\n",
       "\n",
       "    .dataframe tbody tr th {\n",
       "        vertical-align: top;\n",
       "    }\n",
       "\n",
       "    .dataframe thead th {\n",
       "        text-align: right;\n",
       "    }\n",
       "</style>\n",
       "<table border=\"1\" class=\"dataframe\">\n",
       "  <thead>\n",
       "    <tr style=\"text-align: right;\">\n",
       "      <th></th>\n",
       "      <th>codigo postal</th>\n",
       "      <th>renta bruta media</th>\n",
       "      <th>renta disponible media</th>\n",
       "    </tr>\n",
       "  </thead>\n",
       "  <tbody>\n",
       "    <tr>\n",
       "      <th>0</th>\n",
       "      <td>02001</td>\n",
       "      <td>32.036</td>\n",
       "      <td>25.823</td>\n",
       "    </tr>\n",
       "    <tr>\n",
       "      <th>1</th>\n",
       "      <td>02002</td>\n",
       "      <td>30.426</td>\n",
       "      <td>24.615</td>\n",
       "    </tr>\n",
       "    <tr>\n",
       "      <th>2</th>\n",
       "      <td>02003</td>\n",
       "      <td>26.866</td>\n",
       "      <td>22.145</td>\n",
       "    </tr>\n",
       "    <tr>\n",
       "      <th>3</th>\n",
       "      <td>02004</td>\n",
       "      <td>23.072</td>\n",
       "      <td>19.449</td>\n",
       "    </tr>\n",
       "    <tr>\n",
       "      <th>4</th>\n",
       "      <td>02005</td>\n",
       "      <td>25.098</td>\n",
       "      <td>20.822</td>\n",
       "    </tr>\n",
       "    <tr>\n",
       "      <th>...</th>\n",
       "      <td>...</td>\n",
       "      <td>...</td>\n",
       "      <td>...</td>\n",
       "    </tr>\n",
       "    <tr>\n",
       "      <th>593</th>\n",
       "      <td>50190</td>\n",
       "      <td>29.913</td>\n",
       "      <td>24.229</td>\n",
       "    </tr>\n",
       "    <tr>\n",
       "      <th>594</th>\n",
       "      <td>50194</td>\n",
       "      <td>27.976</td>\n",
       "      <td>22.941</td>\n",
       "    </tr>\n",
       "    <tr>\n",
       "      <th>595</th>\n",
       "      <td>50620</td>\n",
       "      <td>22.356</td>\n",
       "      <td>18.812</td>\n",
       "    </tr>\n",
       "    <tr>\n",
       "      <th>596</th>\n",
       "      <td>50720</td>\n",
       "      <td>26.286</td>\n",
       "      <td>21.398</td>\n",
       "    </tr>\n",
       "    <tr>\n",
       "      <th>597</th>\n",
       "      <td>50820</td>\n",
       "      <td>29.530</td>\n",
       "      <td>23.976</td>\n",
       "    </tr>\n",
       "  </tbody>\n",
       "</table>\n",
       "<p>598 rows × 3 columns</p>\n",
       "</div>"
      ],
      "text/plain": [
       "    codigo postal renta bruta media renta disponible media\n",
       "0           02001            32.036                 25.823\n",
       "1           02002            30.426                 24.615\n",
       "2           02003            26.866                 22.145\n",
       "3           02004            23.072                 19.449\n",
       "4           02005            25.098                 20.822\n",
       "..            ...               ...                    ...\n",
       "593         50190            29.913                 24.229\n",
       "594         50194            27.976                 22.941\n",
       "595         50620            22.356                 18.812\n",
       "596         50720            26.286                 21.398\n",
       "597         50820            29.530                 23.976\n",
       "\n",
       "[598 rows x 3 columns]"
      ]
     },
     "execution_count": 24,
     "metadata": {},
     "output_type": "execute_result"
    }
   ],
   "source": [
    "df"
   ]
  },
  {
   "cell_type": "code",
   "execution_count": null,
   "id": "eda3987a",
   "metadata": {},
   "outputs": [],
   "source": []
  }
 ],
 "metadata": {
  "kernelspec": {
   "display_name": "Python 3",
   "language": "python",
   "name": "python3"
  },
  "language_info": {
   "codemirror_mode": {
    "name": "ipython",
    "version": 3
   },
   "file_extension": ".py",
   "mimetype": "text/x-python",
   "name": "python",
   "nbconvert_exporter": "python",
   "pygments_lexer": "ipython3",
   "version": "3.7.10"
  }
 },
 "nbformat": 4,
 "nbformat_minor": 5
}
