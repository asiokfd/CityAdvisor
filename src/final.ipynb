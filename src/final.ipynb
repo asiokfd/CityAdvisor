{
 "cells": [
  {
   "cell_type": "code",
   "execution_count": 241,
   "metadata": {},
   "outputs": [],
   "source": [
    "import pandas as pd\n",
    "from dotenv import load_dotenv\n",
    "from googlemaps import convert\n",
    "import googlemaps\n",
    "import os\n",
    "import requests\n",
    "import json\n",
    "import foursquare\n",
    "from config import dic_categorias\n",
    "from pymongo import MongoClient\n",
    "import folium\n",
    "from folium import Choropleth, Circle, Marker, Icon, Map\n",
    "from folium.plugins import HeatMap, MarkerCluster\n",
    "import matplotlib \n",
    "from selenium import webdriver\n"
   ]
  },
  {
   "cell_type": "code",
   "execution_count": 2,
   "metadata": {},
   "outputs": [
    {
     "data": {
      "text/plain": [
       "True"
      ]
     },
     "execution_count": 2,
     "metadata": {},
     "output_type": "execute_result"
    }
   ],
   "source": [
    "load_dotenv()"
   ]
  },
  {
   "cell_type": "code",
   "execution_count": 3,
   "metadata": {},
   "outputs": [],
   "source": [
    "tokg = os.getenv(\"tokg\")\n",
    "tokf3 = os.getenv (\"tokf3\")\n",
    "client2= MongoClient (\"localhost:27017\")"
   ]
  },
  {
   "cell_type": "code",
   "execution_count": 5,
   "metadata": {},
   "outputs": [],
   "source": [
    "client = foursquare.Foursquare( access_token= tokf3 )\n",
    "gmaps = googlemaps.Client(key= tokg )\n",
    "db = client2.get_database(\"ciudades\")"
   ]
  },
  {
   "cell_type": "code",
   "execution_count": 185,
   "metadata": {},
   "outputs": [],
   "source": [
    "dic_categorias= {\n",
    "#infraestructuras transporte\n",
    "    \"aeropuertos\" : [\"airport\"],\n",
    "    \"estaciones de tren\": [\"train station\", \"estacion de tren\"],  \n",
    "    \"parques\": [\"park\"],\n",
    "    \"estaciones de metro\": [\"metro\", \"subway station\"],\n",
    "    \"estaciones de autobús\": [\"bus\"],\n",
    "    \"carril bici\": [\"bike trail\"],\n",
    "# infraestructuras sanidad\n",
    "    \"hospitales\" : [\"hospital\"],\n",
    "    \"clinicas\": [\"medical center\", \"clinic\"],\n",
    "    \"farmacias\": [\"pharmacy\", \"farmacia\"],\n",
    "    \"veterinario\": [\"veterinarian\"],\n",
    "#restauracion\n",
    "    \"restaurantes\": [\"restaurant\"],\n",
    "    \"ocio_nocturno\": [\"pub\",\"Cocktail Bar\"],\n",
    "    \"hoteles\": [\"hotel\"],\n",
    "    \"cafeterias\": [\"coffe\"],\n",
    "#ocio y cultura\n",
    "    \"cines\": [\"cinema\", \"movie theatre\"],\n",
    "    \"teatros\": [\"theatre\", \"teatro\"],\n",
    "    \"museos\": [\"museum\"],\n",
    "    \"salas_de_conciertos\": [\"rock club\", \"concert\"],\n",
    "    \"bibliotecas\" : [\"library\", \"biblioteca\"], \n",
    "#ocio y deporte\n",
    "    \"ocio_deporte\": [\"gym\", \"Fitness\"],\n",
    "    \"piscina\": [\"pool\", \"piscina\"],\n",
    "    \"canchas\": [\"cancha\", \"court\"],\n",
    "    \"estadios\" : [\"stadium\", \"estadio\"],\n",
    "    \n",
    "#infraestructuras educacion\n",
    "    \"colegios\" : [\"primary school\", \"elemental school\"],\n",
    "    \"guarderias\" : [\"kindergarden\", \"guarderia\"],\n",
    "    \"universidades\": [\"college\", \"university\"],\n",
    "    \"Institutos\" : [\"secundary school\", \"bachiller\"],\n",
    "    \"Escuelas\" : [\"school\", \"escuela\"],\n",
    "    \n",
    "#comercio\n",
    "    \"centros_comerciales\": [\"mall\", \"shopping center\"],\n",
    "    \"Tiendas minoristas\" : [\"shop\", \"tienda\"]\n",
    "    \n",
    "                             }"
   ]
  },
  {
   "cell_type": "code",
   "execution_count": 172,
   "metadata": {},
   "outputs": [],
   "source": [
    "\"\"\"\"\n",
    "dic_categorias= {\n",
    "#infraestructuras transporte\n",
    "   \n",
    "    \"estaciones de tren\": [\"train station\", \"estacion de tren\"],  \n",
    "   \n",
    "# infraestructuras sanidad\n",
    "    \n",
    "    \"farmacias\": [\"pharmacy\", \"farmacia\"],\n",
    "    \n",
    "#restauracion\n",
    "    \"restaurantes\": [\"restaurant\"],\n",
    "\n",
    "#ocio y cultura\n",
    "    \"cines\": [\"cinema\", \"movie theatre\"],\n",
    "\n",
    "#ocio y deporte\n",
    "    \"ocio_deporte\": [\"gym\", \"Fitness\"],\n",
    "\n",
    "    \n",
    "#infraestructuras educacion\n",
    "\n",
    "    \"Escuelas\" : [\"school\", \"escuela\"],\n",
    "    \n",
    "#comercio\n",
    "    \n",
    "    \"Tiendas minoristas\" : [\"shop\", \"tienda\"]\n",
    "    \n",
    "                             }\n",
    "                             \"\"\""
   ]
  },
  {
   "cell_type": "code",
   "execution_count": 67,
   "metadata": {},
   "outputs": [],
   "source": [
    "coord= \"40.3829439,-3.7332451\""
   ]
  },
  {
   "cell_type": "code",
   "execution_count": 82,
   "metadata": {},
   "outputs": [],
   "source": [
    "request = client.venues.search(params = {'query': [\"kindergarden\", \"guarderia\"] , 'll': coord, \"radius\": 1500, \"limit\": 50})"
   ]
  },
  {
   "cell_type": "code",
   "execution_count": 93,
   "metadata": {},
   "outputs": [],
   "source": [
    "keys= list (dic_categorias.keys())"
   ]
  },
  {
   "cell_type": "code",
   "execution_count": 115,
   "metadata": {},
   "outputs": [],
   "source": [
    "cat1= keys[:6]\n",
    "cat2= keys[6:10]\n",
    "cat3= keys[10:14]\n",
    "cat4= keys [14:19]\n",
    "cat5= keys [19:23]\n",
    "cat6= keys [23:28]\n",
    "cat7= keys[-2:]"
   ]
  },
  {
   "cell_type": "code",
   "execution_count": 6,
   "metadata": {},
   "outputs": [],
   "source": [
    "def test (nombre):\n",
    "    lista= db.list_collection_names()\n",
    "    return nombre in lista       "
   ]
  },
  {
   "cell_type": "code",
   "execution_count": 280,
   "metadata": {},
   "outputs": [],
   "source": [
    "coords2=gmaps.geocode( address= \"campos eliseos, paris\")\n"
   ]
  },
  {
   "cell_type": "code",
   "execution_count": 292,
   "metadata": {},
   "outputs": [
    {
     "data": {
      "text/plain": [
       "'02002'"
      ]
     },
     "execution_count": 292,
     "metadata": {},
     "output_type": "execute_result"
    }
   ],
   "source": [
    "df[\"codigo postal\"][1]"
   ]
  },
  {
   "cell_type": "code",
   "execution_count": 298,
   "metadata": {},
   "outputs": [
    {
     "data": {
      "text/plain": [
       "598"
      ]
     },
     "execution_count": 298,
     "metadata": {},
     "output_type": "execute_result"
    }
   ],
   "source": [
    "len (df)"
   ]
  },
  {
   "cell_type": "code",
   "execution_count": 299,
   "metadata": {},
   "outputs": [],
   "source": [
    "ciudad= \"clara campoamor\"\n",
    "pais= \"madrid\""
   ]
  },
  {
   "cell_type": "code",
   "execution_count": 300,
   "metadata": {},
   "outputs": [
    {
     "data": {
      "text/plain": [
       "Index(['codigo postal', 'renta bruta media', 'renta disponible media'], dtype='object')"
      ]
     },
     "execution_count": 300,
     "metadata": {},
     "output_type": "execute_result"
    }
   ],
   "source": [
    "df.columns"
   ]
  },
  {
   "cell_type": "code",
   "execution_count": 303,
   "metadata": {},
   "outputs": [
    {
     "name": "stdout",
     "output_type": "stream",
     "text": [
      "{'nombre': '28025', 'coordenadas': '40.3829439,-3.7332451', 'latitud': 40.3829439, 'longitud': -3.7332451, 'renta bruta': '24.346', 'renta neta': '20.457'}\n"
     ]
    }
   ],
   "source": [
    "busqueda= ciudad + \", \" + pais #unimos en un string para pasarselo como búsqueda a gplaces\n",
    "coords=gmaps.geocode( address= busqueda)\n",
    "nombre = coords[0][\"address_components\"][5][\"short_name\"] # nos quedamos con el nombre, que será el de la colección\n",
    "a=coords[0][\"geometry\"][\"location\"][\"lat\"] \n",
    "b=coords[0][\"geometry\"][\"location\"][\"lng\"]\n",
    "c = str (a) +\",\" + str(b) # Formato que luego entienda foursquare\n",
    "for n in range (len (df)):\n",
    "    if df[\"codigo postal\"][n] == nombre:\n",
    "        renta_neta= df[\"renta disponible media\"][n]\n",
    "        renta_bruta= df[\"renta bruta media\"][n]\n",
    "    else:\n",
    "        pass\n",
    "dic= {\"nombre\": nombre,\n",
    "                \"coordenadas\": c,\n",
    "                 \"latitud\":a,\n",
    "                 \"longitud\":b,\n",
    "                \"renta bruta\": renta_bruta,\n",
    "                 \"renta neta\": renta_neta}\n",
    "\n",
    "print (dic)"
   ]
  },
  {
   "cell_type": "code",
   "execution_count": 8,
   "metadata": {},
   "outputs": [],
   "source": [
    "def get_coords(nombre, dic):\n",
    "    collection= nombre \n",
    "    db[collection].insert_one (dic)\n",
    "    coord= dic[\"coordenadas\"]\n",
    "    return get_data_fields (coord, collection)\n",
    "        "
   ]
  },
  {
   "cell_type": "code",
   "execution_count": 9,
   "metadata": {},
   "outputs": [],
   "source": [
    "def get_data_fields (coord, collection):\n",
    "    tokf3 = os.getenv (\"tokf3\")\n",
    "    client = foursquare.Foursquare( access_token= tokf3 )\n",
    "    cantidad=[]\n",
    "    dic_insert={}\n",
    "    for categoria, codigo in dic_categorias.items():  \n",
    "        request = client.venues.search(params = {'query': codigo , 'll': coord, \"radius\": 1500, \"limit\": 50})\n",
    "        lista=request[\"venues\"]\n",
    "        cantidad= len (lista)\n",
    "        dice1={categoria: {\"número\":cantidad }}\n",
    "        dice=[]\n",
    "        for i in range (0,len (lista)): # para cada venue, sacame:\n",
    "            nombre = lista[i][\"name\"]\n",
    "            latitud= lista[i][\"location\"][\"lat\"]\n",
    "            longitud= lista[i][\"location\"][\"lng\"]\n",
    "            try:\n",
    "                tipo = lista[i][\"categories\"][0][\"name\"]\n",
    "            except:\n",
    "                pass\n",
    "            try:\n",
    "                direccion= lista[i][\"location\"][\"formattedAddress\"]\n",
    "            except:\n",
    "                pass\n",
    "        \n",
    "            dice2 = {\"nombre\": nombre, \n",
    "                       \"latitud\":latitud,\n",
    "                       \"longitud\": longitud,\n",
    "                        \"tipo\" : tipo,\n",
    "                        \"direccion\": direccion }\n",
    "            dice.append (dice2)          \n",
    "        \n",
    "            dice1[categoria].update ({\"listado\": dice})\n",
    "        db[collection].insert_one (dice1)\n",
    "    \n",
    "    return \"se han introducido los campos\""
   ]
  },
  {
   "cell_type": "code",
   "execution_count": 186,
   "metadata": {},
   "outputs": [],
   "source": [
    "def get_data_fields (coord, collection):\n",
    "\n",
    "    for categoria, codigo in dic_categorias.items():  \n",
    "        request = client.venues.search(params = {'query': codigo , 'll': coord, \"radius\": 1500, \"limit\": 50})\n",
    "        lista=request[\"venues\"]\n",
    "        \n",
    "        \n",
    "        dice=[]\n",
    "        for i in range (0,len (lista)): # para cada venue, sacame:\n",
    "            nombre = lista[i][\"name\"]\n",
    "            latitud= lista[i][\"location\"][\"lat\"]\n",
    "            longitud= lista[i][\"location\"][\"lng\"]\n",
    "            try:\n",
    "                tipo = lista[i][\"categories\"][0][\"name\"]\n",
    "            except:\n",
    "                tipo= \"no definido\"\n",
    "            try:\n",
    "                direccion= str (lista[i][\"location\"][\"formattedAddress\"])[2:-2]\n",
    "            except:\n",
    "                direccion= \"no disponible\"\n",
    "            \n",
    "            dice2 = {\"nombre\": nombre,\n",
    "                     \"categoria\": get_primary (categoria),\n",
    "                \"subcategoria\": categoria, \n",
    "               \"latitud\":latitud,\n",
    "               \"longitud\": longitud,\n",
    "                \"tipo\" : tipo,\n",
    "               \"direccion\":direccion }\n",
    "            dice.append (dice2)          \n",
    "        \n",
    "        try:   # cuando dice está vacio, dá error, así lo obviamos.\n",
    "            db[collection].insert_many (dice)\n",
    "        except:\n",
    "            pass\n",
    "    \n",
    "    return (collection)"
   ]
  },
  {
   "cell_type": "code",
   "execution_count": 390,
   "metadata": {},
   "outputs": [],
   "source": [
    "def query(collection, items, numero):\n",
    "    # ver si se pueden poner varios items, modificar funcion caso\n",
    "    a=list (db[collection]. find ({item: {\"$exists\": True}},{ item +\".listado\" :1, \"_id\":0}))\n",
    "    try:\n",
    "        listapeque= a[0][\"restaurantes\"][\"listado\"][:numero]\n",
    "    except:\n",
    "        return \"No hay resultados que mostrar\"\n",
    "        \n",
    "    df=pd.DataFrame (listapeque)\n",
    "    \n",
    "    return making_map (df,collection)"
   ]
  },
  {
   "cell_type": "code",
   "execution_count": 187,
   "metadata": {},
   "outputs": [],
   "source": [
    "collection= test_and_create (\"calle jilguero\", \"madrid\")"
   ]
  },
  {
   "cell_type": "code",
   "execution_count": 506,
   "metadata": {},
   "outputs": [
    {
     "data": {
      "text/plain": [
       "{'_id': ObjectId('60a44d02bc723d4dbad85c8f'),\n",
       " 'nombre': 'Av. Oporto, Madrid, Spain',\n",
       " 'coordenadas': '40.3856358,-3.7250457',\n",
       " 'latitud': 40.3856358,\n",
       " 'longitud': -3.7250457}"
      ]
     },
     "execution_count": 506,
     "metadata": {},
     "output_type": "execute_result"
    }
   ],
   "source": [
    "db[collection].find_one ()"
   ]
  },
  {
   "cell_type": "code",
   "execution_count": 27,
   "metadata": {},
   "outputs": [],
   "source": [
    "def get_map (collection, items):\n",
    "    lista=[]\n",
    "    for item in items:\n",
    "        a=list (db[collection]. find ({\"categoria\": item},{\"latitud\":1,\"nombre\":1, \"longitud\":1, \"categoria\":1, \"_id\":0}).limit(15))\n",
    "        lista.append (a)\n",
    "    cosa=[]\n",
    "    for n in range (len(lista)):\n",
    "        cosa+= lista[n]\n",
    "    if len (cosa)==0:\n",
    "        return False\n",
    "    else:\n",
    "        df=pd.DataFrame (cosa)\n",
    "    \n",
    "    return making_map (df, collection)"
   ]
  },
  {
   "cell_type": "code",
   "execution_count": 22,
   "metadata": {},
   "outputs": [],
   "source": [
    "def making_map (df,collection):\n",
    "    \n",
    "    a=list (db[collection]. find ({\"coordenadas\": {\"$exists\": True}},{\"latitud\":1,\"longitud\" :1, \"nombre\":1,\"_id\":0})) \n",
    "    \n",
    "    lat=a[0][\"latitud\"]\n",
    "    \n",
    "    long=a[0][\"longitud\"]\n",
    "    \n",
    "    nombre= a[0][\"nombre\"]\n",
    "    \n",
    "    mapa = folium.Map(location= [lat, long], zoom_start= 14, tooltip=nombre)\n",
    "    for i, row in df.iterrows():\n",
    "        \n",
    "        marcador = {\n",
    "            \"location\":[row[\"latitud\"], row[\"longitud\"]],\n",
    "            \"tooltip\" : row[\"categoria\"]\n",
    "        }\n",
    "    \n",
    "        if row[\"categoria\"] == \"Festivo\":\n",
    "            icon = Icon(color = \"green\",\n",
    "                    prefix = \"fa\",\n",
    "                    icon = \"glass\",\n",
    "                    icon_color = \"black\"\n",
    "        )\n",
    "        \n",
    "        elif row[\"categoria\"] == \"Vispera\":\n",
    "            icon = Icon(color = \"blue\",\n",
    "                    prefix = \"fa\",\n",
    "                    icon = \"home\",\n",
    "                    icon_color = \"black\"\n",
    "        )\n",
    "        \n",
    "        else:\n",
    "            icon = Icon(color = \"red\",\n",
    "                    prefix = \"fa\",\n",
    "                    icon = \"briefcase\",\n",
    "                    icon_color = \"black\"\n",
    "            )\n",
    "        Marker(**marcador,icon = icon ).add_to(mapa)\n",
    "    return mapa\n",
    "    "
   ]
  },
  {
   "cell_type": "code",
   "execution_count": 61,
   "metadata": {},
   "outputs": [],
   "source": [
    "def grafica_post(collection):\n",
    "    dic_categorias= {\n",
    "    \n",
    "    \"restaurantes\": [\"restaurant\"],\n",
    "    \"playas\": \"4bf58dd8d48988d1e2941735\",\n",
    "    \"ocio_nocturno\": [\"pub\",\"Cocktail Bar\"],\n",
    "    \"hoteles\": [\"hotel\"],\n",
    "    \"ocio_deporte\": [\"gym\", \"Fitness\"],\n",
    "    \"colegios\" : [\"school\", \"primary school\", \"elemental school\"],\n",
    "    \"guarderias\" : [\"kindergarden\", \"preschool\"],\n",
    "    \"universidades\": [\"college\", \"university\"],\n",
    "    \"aeropuertos\" : [\"airport\"],\n",
    "    \"estaciones de tren\": [\"train station\"],\n",
    "    \"parques\": [\"park\"],\n",
    "    \"hospitales\" : [\"hospital\", \"medical center\"],\n",
    "    \"cines\": [\"cinema\", \"movie theatre\"],\n",
    "    \"teatros\": [\"theatre\"],\n",
    "    \"museos\": [\"museum\"],\n",
    "    \"salas_de_conciertos\": [\"rock club\", \"jazz club\", \"concert\"],\n",
    "    \"piscina_para_Emilio\": [\"pool\"],\n",
    "    \"bibliotecas\" : [\"library\", \"book store\"],               \n",
    "    \"centros_comerciales\": [\"mall\", \"shopping center\"]\n",
    "    \n",
    "                                            }\n",
    "    c= list (dic_categorias.keys())\n",
    "    lista=[]\n",
    "    for item in c:\n",
    "        a=list (db[collection].find ({\"categoria\": item},{ item :1, \"_id\":0}))\n",
    "        cantidad= len (a)\n",
    "        lista.append ( { collection : cantidad } )\n",
    "    df=pd.DataFrame (lista, index=c)\n",
    "    return df"
   ]
  },
  {
   "cell_type": "code",
   "execution_count": 182,
   "metadata": {},
   "outputs": [],
   "source": [
    "def get_primary (categoria):\n",
    "    keys= list (dic_categorias.keys())\n",
    "    cat1= keys[:6]\n",
    "    cat2= keys[6:10]\n",
    "    cat3= keys[10:14]\n",
    "    cat4= keys [14:19]\n",
    "    cat5= keys [19:23]\n",
    "    cat6= keys [23:28]\n",
    "    cat7= keys[-2:]\n",
    "    \n",
    "    if categoria in cat1:\n",
    "        clase = \"Infraestructura transporte\"\n",
    "        return clase\n",
    "    elif categoria in cat2:\n",
    "        clase= \"Infraestructura sanidad\"\n",
    "        return clase\n",
    "    elif categoria in cat3:\n",
    "        clase= \"Ocio y Restauración\"\n",
    "        return clase\n",
    "    elif categoria in cat4:\n",
    "        clase= \"Ocio y cultura\"\n",
    "        return clase\n",
    "    elif categoria in cat5:\n",
    "        clase= \"Ocio y deporte\"\n",
    "        return clase\n",
    "    elif categoria in cat6:\n",
    "        clase= \"Infraestructuras educacion\"\n",
    "        return clase\n",
    "    elif categoria in cat7:\n",
    "        clase= \"Comercio\"\n",
    "        return clase\n",
    "    else:\n",
    "        return \"desconocido\"\n",
    "   \n",
    "    "
   ]
  },
  {
   "cell_type": "code",
   "execution_count": 183,
   "metadata": {},
   "outputs": [
    {
     "data": {
      "text/plain": [
       "'Infraestructura transporte'"
      ]
     },
     "execution_count": 183,
     "metadata": {},
     "output_type": "execute_result"
    }
   ],
   "source": [
    "get_primary (\"restaurantes\")"
   ]
  },
  {
   "cell_type": "code",
   "execution_count": 179,
   "metadata": {},
   "outputs": [
    {
     "data": {
      "text/plain": [
       "'Comercio'"
      ]
     },
     "execution_count": 179,
     "metadata": {},
     "output_type": "execute_result"
    }
   ],
   "source": [
    "clase"
   ]
  },
  {
   "cell_type": "code",
   "execution_count": 141,
   "metadata": {},
   "outputs": [
    {
     "name": "stdout",
     "output_type": "stream",
     "text": [
      "aeropuertos\n",
      "{'nombre': 'Guardería San Roque', 'latitud': 40.38952195045214, 'longitud': -3.736509681444763, 'subcategoria': 'aeropuertos', 'categoria': 'Comercio'}\n",
      "{'nombre': 'En La Guarderia Las Amapolas', 'latitud': 40.370525, 'longitud': -3.741557, 'subcategoria': 'aeropuertos', 'categoria': 'Comercio'}\n",
      "{'nombre': 'Guardería Nido La Cigüeña', 'latitud': 40.38136968264962, 'longitud': -3.7490762782583356, 'subcategoria': 'aeropuertos', 'categoria': 'Comercio'}\n",
      "estaciones de tren\n",
      "{'nombre': 'Guardería San Roque', 'latitud': 40.38952195045214, 'longitud': -3.736509681444763, 'subcategoria': 'estaciones de tren', 'categoria': 'Comercio'}\n",
      "{'nombre': 'En La Guarderia Las Amapolas', 'latitud': 40.370525, 'longitud': -3.741557, 'subcategoria': 'estaciones de tren', 'categoria': 'Comercio'}\n",
      "{'nombre': 'Guardería Nido La Cigüeña', 'latitud': 40.38136968264962, 'longitud': -3.7490762782583356, 'subcategoria': 'estaciones de tren', 'categoria': 'Comercio'}\n",
      "parques\n",
      "{'nombre': 'Guardería San Roque', 'latitud': 40.38952195045214, 'longitud': -3.736509681444763, 'subcategoria': 'parques', 'categoria': 'Comercio'}\n",
      "{'nombre': 'En La Guarderia Las Amapolas', 'latitud': 40.370525, 'longitud': -3.741557, 'subcategoria': 'parques', 'categoria': 'Comercio'}\n",
      "{'nombre': 'Guardería Nido La Cigüeña', 'latitud': 40.38136968264962, 'longitud': -3.7490762782583356, 'subcategoria': 'parques', 'categoria': 'Comercio'}\n",
      "estaciones de metro\n",
      "{'nombre': 'Guardería San Roque', 'latitud': 40.38952195045214, 'longitud': -3.736509681444763, 'subcategoria': 'estaciones de metro', 'categoria': 'Comercio'}\n",
      "{'nombre': 'En La Guarderia Las Amapolas', 'latitud': 40.370525, 'longitud': -3.741557, 'subcategoria': 'estaciones de metro', 'categoria': 'Comercio'}\n",
      "{'nombre': 'Guardería Nido La Cigüeña', 'latitud': 40.38136968264962, 'longitud': -3.7490762782583356, 'subcategoria': 'estaciones de metro', 'categoria': 'Comercio'}\n",
      "estaciones de autobús\n",
      "{'nombre': 'Guardería San Roque', 'latitud': 40.38952195045214, 'longitud': -3.736509681444763, 'subcategoria': 'estaciones de autobús', 'categoria': 'Comercio'}\n",
      "{'nombre': 'En La Guarderia Las Amapolas', 'latitud': 40.370525, 'longitud': -3.741557, 'subcategoria': 'estaciones de autobús', 'categoria': 'Comercio'}\n",
      "{'nombre': 'Guardería Nido La Cigüeña', 'latitud': 40.38136968264962, 'longitud': -3.7490762782583356, 'subcategoria': 'estaciones de autobús', 'categoria': 'Comercio'}\n",
      "carril bici\n",
      "{'nombre': 'Guardería San Roque', 'latitud': 40.38952195045214, 'longitud': -3.736509681444763, 'subcategoria': 'carril bici', 'categoria': 'Comercio'}\n",
      "{'nombre': 'En La Guarderia Las Amapolas', 'latitud': 40.370525, 'longitud': -3.741557, 'subcategoria': 'carril bici', 'categoria': 'Comercio'}\n",
      "{'nombre': 'Guardería Nido La Cigüeña', 'latitud': 40.38136968264962, 'longitud': -3.7490762782583356, 'subcategoria': 'carril bici', 'categoria': 'Comercio'}\n",
      "hospitales\n",
      "{'nombre': 'Guardería San Roque', 'latitud': 40.38952195045214, 'longitud': -3.736509681444763, 'subcategoria': 'hospitales', 'categoria': 'Comercio'}\n",
      "{'nombre': 'En La Guarderia Las Amapolas', 'latitud': 40.370525, 'longitud': -3.741557, 'subcategoria': 'hospitales', 'categoria': 'Comercio'}\n",
      "{'nombre': 'Guardería Nido La Cigüeña', 'latitud': 40.38136968264962, 'longitud': -3.7490762782583356, 'subcategoria': 'hospitales', 'categoria': 'Comercio'}\n",
      "clinicas\n",
      "{'nombre': 'Guardería San Roque', 'latitud': 40.38952195045214, 'longitud': -3.736509681444763, 'subcategoria': 'clinicas', 'categoria': 'Comercio'}\n",
      "{'nombre': 'En La Guarderia Las Amapolas', 'latitud': 40.370525, 'longitud': -3.741557, 'subcategoria': 'clinicas', 'categoria': 'Comercio'}\n",
      "{'nombre': 'Guardería Nido La Cigüeña', 'latitud': 40.38136968264962, 'longitud': -3.7490762782583356, 'subcategoria': 'clinicas', 'categoria': 'Comercio'}\n",
      "farmacias\n",
      "{'nombre': 'Guardería San Roque', 'latitud': 40.38952195045214, 'longitud': -3.736509681444763, 'subcategoria': 'farmacias', 'categoria': 'Comercio'}\n",
      "{'nombre': 'En La Guarderia Las Amapolas', 'latitud': 40.370525, 'longitud': -3.741557, 'subcategoria': 'farmacias', 'categoria': 'Comercio'}\n",
      "{'nombre': 'Guardería Nido La Cigüeña', 'latitud': 40.38136968264962, 'longitud': -3.7490762782583356, 'subcategoria': 'farmacias', 'categoria': 'Comercio'}\n",
      "veterinario\n",
      "{'nombre': 'Guardería San Roque', 'latitud': 40.38952195045214, 'longitud': -3.736509681444763, 'subcategoria': 'veterinario', 'categoria': 'Comercio'}\n",
      "{'nombre': 'En La Guarderia Las Amapolas', 'latitud': 40.370525, 'longitud': -3.741557, 'subcategoria': 'veterinario', 'categoria': 'Comercio'}\n",
      "{'nombre': 'Guardería Nido La Cigüeña', 'latitud': 40.38136968264962, 'longitud': -3.7490762782583356, 'subcategoria': 'veterinario', 'categoria': 'Comercio'}\n",
      "restaurantes\n",
      "{'nombre': 'Guardería San Roque', 'latitud': 40.38952195045214, 'longitud': -3.736509681444763, 'subcategoria': 'restaurantes', 'categoria': 'Comercio'}\n",
      "{'nombre': 'En La Guarderia Las Amapolas', 'latitud': 40.370525, 'longitud': -3.741557, 'subcategoria': 'restaurantes', 'categoria': 'Comercio'}\n",
      "{'nombre': 'Guardería Nido La Cigüeña', 'latitud': 40.38136968264962, 'longitud': -3.7490762782583356, 'subcategoria': 'restaurantes', 'categoria': 'Comercio'}\n",
      "ocio_nocturno\n",
      "{'nombre': 'Guardería San Roque', 'latitud': 40.38952195045214, 'longitud': -3.736509681444763, 'subcategoria': 'ocio_nocturno', 'categoria': 'Comercio'}\n",
      "{'nombre': 'En La Guarderia Las Amapolas', 'latitud': 40.370525, 'longitud': -3.741557, 'subcategoria': 'ocio_nocturno', 'categoria': 'Comercio'}\n",
      "{'nombre': 'Guardería Nido La Cigüeña', 'latitud': 40.38136968264962, 'longitud': -3.7490762782583356, 'subcategoria': 'ocio_nocturno', 'categoria': 'Comercio'}\n",
      "hoteles\n",
      "{'nombre': 'Guardería San Roque', 'latitud': 40.38952195045214, 'longitud': -3.736509681444763, 'subcategoria': 'hoteles', 'categoria': 'Comercio'}\n",
      "{'nombre': 'En La Guarderia Las Amapolas', 'latitud': 40.370525, 'longitud': -3.741557, 'subcategoria': 'hoteles', 'categoria': 'Comercio'}\n",
      "{'nombre': 'Guardería Nido La Cigüeña', 'latitud': 40.38136968264962, 'longitud': -3.7490762782583356, 'subcategoria': 'hoteles', 'categoria': 'Comercio'}\n",
      "cafeterias\n",
      "{'nombre': 'Guardería San Roque', 'latitud': 40.38952195045214, 'longitud': -3.736509681444763, 'subcategoria': 'cafeterias', 'categoria': 'Comercio'}\n",
      "{'nombre': 'En La Guarderia Las Amapolas', 'latitud': 40.370525, 'longitud': -3.741557, 'subcategoria': 'cafeterias', 'categoria': 'Comercio'}\n",
      "{'nombre': 'Guardería Nido La Cigüeña', 'latitud': 40.38136968264962, 'longitud': -3.7490762782583356, 'subcategoria': 'cafeterias', 'categoria': 'Comercio'}\n",
      "cines\n",
      "{'nombre': 'Guardería San Roque', 'latitud': 40.38952195045214, 'longitud': -3.736509681444763, 'subcategoria': 'cines', 'categoria': 'Comercio'}\n",
      "{'nombre': 'En La Guarderia Las Amapolas', 'latitud': 40.370525, 'longitud': -3.741557, 'subcategoria': 'cines', 'categoria': 'Comercio'}\n",
      "{'nombre': 'Guardería Nido La Cigüeña', 'latitud': 40.38136968264962, 'longitud': -3.7490762782583356, 'subcategoria': 'cines', 'categoria': 'Comercio'}\n",
      "teatros\n",
      "{'nombre': 'Guardería San Roque', 'latitud': 40.38952195045214, 'longitud': -3.736509681444763, 'subcategoria': 'teatros', 'categoria': 'Comercio'}\n",
      "{'nombre': 'En La Guarderia Las Amapolas', 'latitud': 40.370525, 'longitud': -3.741557, 'subcategoria': 'teatros', 'categoria': 'Comercio'}\n",
      "{'nombre': 'Guardería Nido La Cigüeña', 'latitud': 40.38136968264962, 'longitud': -3.7490762782583356, 'subcategoria': 'teatros', 'categoria': 'Comercio'}\n",
      "museos\n",
      "{'nombre': 'Guardería San Roque', 'latitud': 40.38952195045214, 'longitud': -3.736509681444763, 'subcategoria': 'museos', 'categoria': 'Comercio'}\n",
      "{'nombre': 'En La Guarderia Las Amapolas', 'latitud': 40.370525, 'longitud': -3.741557, 'subcategoria': 'museos', 'categoria': 'Comercio'}\n",
      "{'nombre': 'Guardería Nido La Cigüeña', 'latitud': 40.38136968264962, 'longitud': -3.7490762782583356, 'subcategoria': 'museos', 'categoria': 'Comercio'}\n",
      "salas_de_conciertos\n",
      "{'nombre': 'Guardería San Roque', 'latitud': 40.38952195045214, 'longitud': -3.736509681444763, 'subcategoria': 'salas_de_conciertos', 'categoria': 'Comercio'}\n",
      "{'nombre': 'En La Guarderia Las Amapolas', 'latitud': 40.370525, 'longitud': -3.741557, 'subcategoria': 'salas_de_conciertos', 'categoria': 'Comercio'}\n",
      "{'nombre': 'Guardería Nido La Cigüeña', 'latitud': 40.38136968264962, 'longitud': -3.7490762782583356, 'subcategoria': 'salas_de_conciertos', 'categoria': 'Comercio'}\n",
      "bibliotecas\n",
      "{'nombre': 'Guardería San Roque', 'latitud': 40.38952195045214, 'longitud': -3.736509681444763, 'subcategoria': 'bibliotecas', 'categoria': 'Comercio'}\n",
      "{'nombre': 'En La Guarderia Las Amapolas', 'latitud': 40.370525, 'longitud': -3.741557, 'subcategoria': 'bibliotecas', 'categoria': 'Comercio'}\n",
      "{'nombre': 'Guardería Nido La Cigüeña', 'latitud': 40.38136968264962, 'longitud': -3.7490762782583356, 'subcategoria': 'bibliotecas', 'categoria': 'Comercio'}\n",
      "ocio_deporte\n",
      "{'nombre': 'Guardería San Roque', 'latitud': 40.38952195045214, 'longitud': -3.736509681444763, 'subcategoria': 'ocio_deporte', 'categoria': 'Comercio'}\n",
      "{'nombre': 'En La Guarderia Las Amapolas', 'latitud': 40.370525, 'longitud': -3.741557, 'subcategoria': 'ocio_deporte', 'categoria': 'Comercio'}\n",
      "{'nombre': 'Guardería Nido La Cigüeña', 'latitud': 40.38136968264962, 'longitud': -3.7490762782583356, 'subcategoria': 'ocio_deporte', 'categoria': 'Comercio'}\n",
      "piscina\n",
      "{'nombre': 'Guardería San Roque', 'latitud': 40.38952195045214, 'longitud': -3.736509681444763, 'subcategoria': 'piscina', 'categoria': 'Comercio'}\n",
      "{'nombre': 'En La Guarderia Las Amapolas', 'latitud': 40.370525, 'longitud': -3.741557, 'subcategoria': 'piscina', 'categoria': 'Comercio'}\n",
      "{'nombre': 'Guardería Nido La Cigüeña', 'latitud': 40.38136968264962, 'longitud': -3.7490762782583356, 'subcategoria': 'piscina', 'categoria': 'Comercio'}\n",
      "canchas\n",
      "{'nombre': 'Guardería San Roque', 'latitud': 40.38952195045214, 'longitud': -3.736509681444763, 'subcategoria': 'canchas', 'categoria': 'Comercio'}\n",
      "{'nombre': 'En La Guarderia Las Amapolas', 'latitud': 40.370525, 'longitud': -3.741557, 'subcategoria': 'canchas', 'categoria': 'Comercio'}\n",
      "{'nombre': 'Guardería Nido La Cigüeña', 'latitud': 40.38136968264962, 'longitud': -3.7490762782583356, 'subcategoria': 'canchas', 'categoria': 'Comercio'}\n",
      "estadios\n",
      "{'nombre': 'Guardería San Roque', 'latitud': 40.38952195045214, 'longitud': -3.736509681444763, 'subcategoria': 'estadios', 'categoria': 'Comercio'}\n",
      "{'nombre': 'En La Guarderia Las Amapolas', 'latitud': 40.370525, 'longitud': -3.741557, 'subcategoria': 'estadios', 'categoria': 'Comercio'}\n",
      "{'nombre': 'Guardería Nido La Cigüeña', 'latitud': 40.38136968264962, 'longitud': -3.7490762782583356, 'subcategoria': 'estadios', 'categoria': 'Comercio'}\n",
      "colegios\n",
      "{'nombre': 'Guardería San Roque', 'latitud': 40.38952195045214, 'longitud': -3.736509681444763, 'subcategoria': 'colegios', 'categoria': 'Comercio'}\n",
      "{'nombre': 'En La Guarderia Las Amapolas', 'latitud': 40.370525, 'longitud': -3.741557, 'subcategoria': 'colegios', 'categoria': 'Comercio'}\n",
      "{'nombre': 'Guardería Nido La Cigüeña', 'latitud': 40.38136968264962, 'longitud': -3.7490762782583356, 'subcategoria': 'colegios', 'categoria': 'Comercio'}\n",
      "guarderias\n",
      "{'nombre': 'Guardería San Roque', 'latitud': 40.38952195045214, 'longitud': -3.736509681444763, 'subcategoria': 'guarderias', 'categoria': 'Comercio'}\n",
      "{'nombre': 'En La Guarderia Las Amapolas', 'latitud': 40.370525, 'longitud': -3.741557, 'subcategoria': 'guarderias', 'categoria': 'Comercio'}\n",
      "{'nombre': 'Guardería Nido La Cigüeña', 'latitud': 40.38136968264962, 'longitud': -3.7490762782583356, 'subcategoria': 'guarderias', 'categoria': 'Comercio'}\n",
      "universidades\n",
      "{'nombre': 'Guardería San Roque', 'latitud': 40.38952195045214, 'longitud': -3.736509681444763, 'subcategoria': 'universidades', 'categoria': 'Comercio'}\n",
      "{'nombre': 'En La Guarderia Las Amapolas', 'latitud': 40.370525, 'longitud': -3.741557, 'subcategoria': 'universidades', 'categoria': 'Comercio'}\n",
      "{'nombre': 'Guardería Nido La Cigüeña', 'latitud': 40.38136968264962, 'longitud': -3.7490762782583356, 'subcategoria': 'universidades', 'categoria': 'Comercio'}\n",
      "Institutos\n",
      "{'nombre': 'Guardería San Roque', 'latitud': 40.38952195045214, 'longitud': -3.736509681444763, 'subcategoria': 'Institutos', 'categoria': 'Comercio'}\n",
      "{'nombre': 'En La Guarderia Las Amapolas', 'latitud': 40.370525, 'longitud': -3.741557, 'subcategoria': 'Institutos', 'categoria': 'Comercio'}\n",
      "{'nombre': 'Guardería Nido La Cigüeña', 'latitud': 40.38136968264962, 'longitud': -3.7490762782583356, 'subcategoria': 'Institutos', 'categoria': 'Comercio'}\n",
      "Escuelas\n",
      "{'nombre': 'Guardería San Roque', 'latitud': 40.38952195045214, 'longitud': -3.736509681444763, 'subcategoria': 'Escuelas', 'categoria': 'Comercio'}\n",
      "{'nombre': 'En La Guarderia Las Amapolas', 'latitud': 40.370525, 'longitud': -3.741557, 'subcategoria': 'Escuelas', 'categoria': 'Comercio'}\n",
      "{'nombre': 'Guardería Nido La Cigüeña', 'latitud': 40.38136968264962, 'longitud': -3.7490762782583356, 'subcategoria': 'Escuelas', 'categoria': 'Comercio'}\n",
      "centros_comerciales\n",
      "{'nombre': 'Guardería San Roque', 'latitud': 40.38952195045214, 'longitud': -3.736509681444763, 'subcategoria': 'centros_comerciales', 'categoria': 'Comercio'}\n",
      "{'nombre': 'En La Guarderia Las Amapolas', 'latitud': 40.370525, 'longitud': -3.741557, 'subcategoria': 'centros_comerciales', 'categoria': 'Comercio'}\n",
      "{'nombre': 'Guardería Nido La Cigüeña', 'latitud': 40.38136968264962, 'longitud': -3.7490762782583356, 'subcategoria': 'centros_comerciales', 'categoria': 'Comercio'}\n",
      "Tiendas minoristas\n",
      "{'nombre': 'Guardería San Roque', 'latitud': 40.38952195045214, 'longitud': -3.736509681444763, 'subcategoria': 'Tiendas minoristas', 'categoria': 'Comercio'}\n",
      "{'nombre': 'En La Guarderia Las Amapolas', 'latitud': 40.370525, 'longitud': -3.741557, 'subcategoria': 'Tiendas minoristas', 'categoria': 'Comercio'}\n",
      "{'nombre': 'Guardería Nido La Cigüeña', 'latitud': 40.38136968264962, 'longitud': -3.7490762782583356, 'subcategoria': 'Tiendas minoristas', 'categoria': 'Comercio'}\n"
     ]
    }
   ],
   "source": [
    "cantidad=[]\n",
    "dic_insert={}\n",
    "for categoria, codigo in dic_categorias.items():  \n",
    "    request \n",
    "    lista=request[\"venues\"]\n",
    "    cantidad= len (lista)\n",
    "    dice1={categoria: {\"número\":cantidad }}\n",
    "    dice=[]\n",
    "    print (categoria)  \n",
    "    for i in range (0,len (lista)): # para cada venue, sacame:\n",
    "        nombre = lista[i][\"name\"]\n",
    "        latitud= lista[i][\"location\"][\"lat\"]\n",
    "        longitud= lista[i][\"location\"][\"lng\"]\n",
    "\n",
    "        dice2 = {\"nombre\": nombre, \n",
    "                       \"latitud\":latitud,\n",
    "                       \"longitud\": longitud,\n",
    "                        \"subcategoria\": categoria,\n",
    "                        \"categoria\": clase}\n",
    "        dice.append (dice2)          \n",
    "        print (dice2)\n",
    "        dice1[categoria].update ({\"listado\": dice})\n",
    "    db[collection].insert_one (dice1)\n",
    "    \n"
   ]
  },
  {
   "cell_type": "code",
   "execution_count": 133,
   "metadata": {},
   "outputs": [],
   "source": [
    "keys= list (dic_categorias.keys())"
   ]
  },
  {
   "cell_type": "code",
   "execution_count": 134,
   "metadata": {},
   "outputs": [],
   "source": [
    "cat1= keys[:6]\n",
    "cat2= keys[6:10]\n",
    "cat3= keys[10:14]\n",
    "cat4= keys [14:19]\n",
    "cat5= keys [19:23]\n",
    "cat6= keys [23:28]\n",
    "cat7= keys[-2:]"
   ]
  },
  {
   "cell_type": "code",
   "execution_count": 212,
   "metadata": {},
   "outputs": [
    {
     "data": {
      "text/plain": [
       "'Calle Jilguero, 28025 Madrid, Spain'"
      ]
     },
     "execution_count": 212,
     "metadata": {},
     "output_type": "execute_result"
    }
   ],
   "source": [
    "collection"
   ]
  },
  {
   "cell_type": "code",
   "execution_count": 215,
   "metadata": {},
   "outputs": [],
   "source": [
    "a= list (db[\"Calle Jilguero, 28025 Madrid, Spain\"].distinct(\"subcategoria\"))"
   ]
  },
  {
   "cell_type": "code",
   "execution_count": 219,
   "metadata": {},
   "outputs": [],
   "source": [
    "collection=test_and_create (\"calle mayor\", \"madrid\")\n"
   ]
  },
  {
   "cell_type": "code",
   "execution_count": 190,
   "metadata": {},
   "outputs": [],
   "source": [
    "def grafica_cat(collection):\n",
    "    \"\"\"\n",
    "    Clon del anterior, pero con una coleción definida\n",
    "    \"\"\"\n",
    "  \n",
    "    lista=[]\n",
    "    for item in lista_items():\n",
    "        a=list (db[collection].find ({\"categoria\": item},{ item :1, \"_id\":0}))\n",
    "        cantidad= len (a)\n",
    "        lista.append ( { collection : cantidad } )\n",
    "    df=pd.DataFrame (lista)\n",
    "    return df"
   ]
  },
  {
   "cell_type": "code",
   "execution_count": 191,
   "metadata": {},
   "outputs": [
    {
     "ename": "NameError",
     "evalue": "name 'lista_items' is not defined",
     "output_type": "error",
     "traceback": [
      "\u001b[1;31m---------------------------------------------------------------------------\u001b[0m",
      "\u001b[1;31mNameError\u001b[0m                                 Traceback (most recent call last)",
      "\u001b[1;32m<ipython-input-191-b08db5274383>\u001b[0m in \u001b[0;36m<module>\u001b[1;34m\u001b[0m\n\u001b[1;32m----> 1\u001b[1;33m \u001b[0mgrafica_cat\u001b[0m \u001b[1;33m(\u001b[0m\u001b[0mcollection\u001b[0m\u001b[1;33m)\u001b[0m\u001b[1;33m\u001b[0m\u001b[1;33m\u001b[0m\u001b[0m\n\u001b[0m",
      "\u001b[1;32m<ipython-input-190-b47e59d6237b>\u001b[0m in \u001b[0;36mgrafica_cat\u001b[1;34m(collection)\u001b[0m\n\u001b[0;32m      5\u001b[0m \u001b[1;33m\u001b[0m\u001b[0m\n\u001b[0;32m      6\u001b[0m     \u001b[0mlista\u001b[0m\u001b[1;33m=\u001b[0m\u001b[1;33m[\u001b[0m\u001b[1;33m]\u001b[0m\u001b[1;33m\u001b[0m\u001b[1;33m\u001b[0m\u001b[0m\n\u001b[1;32m----> 7\u001b[1;33m     \u001b[1;32mfor\u001b[0m \u001b[0mitem\u001b[0m \u001b[1;32min\u001b[0m \u001b[0mlista_items\u001b[0m\u001b[1;33m(\u001b[0m\u001b[1;33m)\u001b[0m\u001b[1;33m:\u001b[0m\u001b[1;33m\u001b[0m\u001b[1;33m\u001b[0m\u001b[0m\n\u001b[0m\u001b[0;32m      8\u001b[0m         \u001b[0ma\u001b[0m\u001b[1;33m=\u001b[0m\u001b[0mlist\u001b[0m \u001b[1;33m(\u001b[0m\u001b[0mdb\u001b[0m\u001b[1;33m[\u001b[0m\u001b[0mcollection\u001b[0m\u001b[1;33m]\u001b[0m\u001b[1;33m.\u001b[0m\u001b[0mfind\u001b[0m \u001b[1;33m(\u001b[0m\u001b[1;33m{\u001b[0m\u001b[1;34m\"categoria\"\u001b[0m\u001b[1;33m:\u001b[0m \u001b[0mitem\u001b[0m\u001b[1;33m}\u001b[0m\u001b[1;33m,\u001b[0m\u001b[1;33m{\u001b[0m \u001b[0mitem\u001b[0m \u001b[1;33m:\u001b[0m\u001b[1;36m1\u001b[0m\u001b[1;33m,\u001b[0m \u001b[1;34m\"_id\"\u001b[0m\u001b[1;33m:\u001b[0m\u001b[1;36m0\u001b[0m\u001b[1;33m}\u001b[0m\u001b[1;33m)\u001b[0m\u001b[1;33m)\u001b[0m\u001b[1;33m\u001b[0m\u001b[1;33m\u001b[0m\u001b[0m\n\u001b[0;32m      9\u001b[0m         \u001b[0mcantidad\u001b[0m\u001b[1;33m=\u001b[0m \u001b[0mlen\u001b[0m \u001b[1;33m(\u001b[0m\u001b[0ma\u001b[0m\u001b[1;33m)\u001b[0m\u001b[1;33m\u001b[0m\u001b[1;33m\u001b[0m\u001b[0m\n",
      "\u001b[1;31mNameError\u001b[0m: name 'lista_items' is not defined"
     ]
    }
   ],
   "source": [
    "grafica_cat (collection)"
   ]
  },
  {
   "cell_type": "code",
   "execution_count": 218,
   "metadata": {},
   "outputs": [],
   "source": [
    "def grafica_intro():\n",
    "    \"\"\"\n",
    "    función que crea un dataframe con la cantidad de documentos de cada categoria para una colección aleatoria realizando querys para cada\n",
    "    categoría y quedándose con el len\n",
    "    \"\"\"\n",
    "  \n",
    "    collection= random.choice (db.list_collection_names())\n",
    "    lista=[]\n",
    "    for item in list_categories(collection):\n",
    "        a=list (db[collection].find ({\"categoria\": item},{ item :1, \"_id\":0}))\n",
    "        cantidad= len (a)\n",
    "        lista.append ( { collection : cantidad } )\n",
    "    df=pd.DataFrame (lista, index=list_categories(collection))\n",
    "    return df"
   ]
  },
  {
   "cell_type": "code",
   "execution_count": 223,
   "metadata": {},
   "outputs": [
    {
     "data": {
      "text/html": [
       "<div>\n",
       "<style scoped>\n",
       "    .dataframe tbody tr th:only-of-type {\n",
       "        vertical-align: middle;\n",
       "    }\n",
       "\n",
       "    .dataframe tbody tr th {\n",
       "        vertical-align: top;\n",
       "    }\n",
       "\n",
       "    .dataframe thead th {\n",
       "        text-align: right;\n",
       "    }\n",
       "</style>\n",
       "<table border=\"1\" class=\"dataframe\">\n",
       "  <thead>\n",
       "    <tr style=\"text-align: right;\">\n",
       "      <th></th>\n",
       "    </tr>\n",
       "  </thead>\n",
       "  <tbody>\n",
       "  </tbody>\n",
       "</table>\n",
       "</div>"
      ],
      "text/plain": [
       "Empty DataFrame\n",
       "Columns: []\n",
       "Index: []"
      ]
     },
     "execution_count": 223,
     "metadata": {},
     "output_type": "execute_result"
    }
   ],
   "source": [
    "grafica_intro ()"
   ]
  },
  {
   "cell_type": "code",
   "execution_count": 225,
   "metadata": {},
   "outputs": [
    {
     "ename": "SyntaxError",
     "evalue": "invalid syntax (<ipython-input-225-198649ed0cfe>, line 2)",
     "output_type": "error",
     "traceback": [
      "\u001b[1;36m  File \u001b[1;32m\"<ipython-input-225-198649ed0cfe>\"\u001b[1;36m, line \u001b[1;32m2\u001b[0m\n\u001b[1;33m    return (list (db.[collection].distinct(\"categorias\")))\u001b[0m\n\u001b[1;37m                     ^\u001b[0m\n\u001b[1;31mSyntaxError\u001b[0m\u001b[1;31m:\u001b[0m invalid syntax\n"
     ]
    }
   ],
   "source": [
    "def list_categories (collection):\n",
    "    return (list (db[collection].distinct(\"categorias\")))"
   ]
  },
  {
   "cell_type": "code",
   "execution_count": null,
   "metadata": {},
   "outputs": [],
   "source": [
    "list (db[collection].find ({\"categoria\": item},{ item :1, \"_id\":0}))"
   ]
  },
  {
   "cell_type": "code",
   "execution_count": 224,
   "metadata": {},
   "outputs": [
    {
     "data": {
      "text/plain": [
       "[]"
      ]
     },
     "execution_count": 224,
     "metadata": {},
     "output_type": "execute_result"
    }
   ],
   "source": [
    "list_categories (collection)"
   ]
  },
  {
   "cell_type": "code",
   "execution_count": 228,
   "metadata": {},
   "outputs": [
    {
     "data": {
      "text/plain": [
       "[]"
      ]
     },
     "execution_count": 228,
     "metadata": {},
     "output_type": "execute_result"
    }
   ],
   "source": [
    "db['Calle Mayor, Madrid, Spain'].distinct(\"categoria\")"
   ]
  },
  {
   "cell_type": "code",
   "execution_count": 227,
   "metadata": {},
   "outputs": [
    {
     "data": {
      "text/plain": [
       "'Calle Mayor, Madrid, Spain'"
      ]
     },
     "execution_count": 227,
     "metadata": {},
     "output_type": "execute_result"
    }
   ],
   "source": [
    "collection"
   ]
  },
  {
   "cell_type": "code",
   "execution_count": 229,
   "metadata": {},
   "outputs": [
    {
     "data": {
      "text/plain": [
       "{'venues': [{'id': '50a50321e4b0acf883d480ab',\n",
       "   'name': 'Guardería San Roque',\n",
       "   'location': {'address': 'Calle De La Oca 35',\n",
       "    'lat': 40.38952195045214,\n",
       "    'lng': -3.736509681444763,\n",
       "    'labeledLatLngs': [{'label': 'display',\n",
       "      'lat': 40.38952195045214,\n",
       "      'lng': -3.736509681444763}],\n",
       "    'distance': 782,\n",
       "    'cc': 'ES',\n",
       "    'city': 'Madrid',\n",
       "    'state': 'Madrid',\n",
       "    'country': 'España',\n",
       "    'formattedAddress': ['Calle De La Oca 35', 'Madrid Madrid']},\n",
       "   'categories': [{'id': '4f4533814b9074f6e4fb0107',\n",
       "     'name': 'Nursery School',\n",
       "     'pluralName': 'Nursery Schools',\n",
       "     'shortName': 'Nursery School',\n",
       "     'icon': {'prefix': 'https://ss3.4sqi.net/img/categories_v2/building/school_',\n",
       "      'suffix': '.png'},\n",
       "     'primary': True}],\n",
       "   'referralId': 'v-1621396357',\n",
       "   'hasPerk': False},\n",
       "  {'id': '4fec8037e4b0d7135b7c37a7',\n",
       "   'name': 'En La Guarderia Las Amapolas',\n",
       "   'location': {'lat': 40.370525,\n",
       "    'lng': -3.741557,\n",
       "    'labeledLatLngs': [{'label': 'display',\n",
       "      'lat': 40.370525,\n",
       "      'lng': -3.741557}],\n",
       "    'distance': 1551,\n",
       "    'cc': 'ES',\n",
       "    'country': 'España'},\n",
       "   'categories': [{'id': '4d954b06a243a5684965b473',\n",
       "     'name': 'Residential Building (Apartment / Condo)',\n",
       "     'pluralName': 'Residential Buildings (Apartments / Condos)',\n",
       "     'shortName': 'Residential',\n",
       "     'icon': {'prefix': 'https://ss3.4sqi.net/img/categories_v2/building/apartment_',\n",
       "      'suffix': '.png'},\n",
       "     'primary': True}],\n",
       "   'referralId': 'v-1621396357',\n",
       "   'hasPerk': False},\n",
       "  {'id': '576aaafc498ed0a321a6d406',\n",
       "   'name': 'Guardería Nido La Cigüeña',\n",
       "   'location': {'address': 'Codorniz 4 Bajo Posterior',\n",
       "    'lat': 40.38136968264962,\n",
       "    'lng': -3.7490762782583356,\n",
       "    'labeledLatLngs': [{'label': 'display',\n",
       "      'lat': 40.38136968264962,\n",
       "      'lng': -3.7490762782583356}],\n",
       "    'distance': 1353,\n",
       "    'postalCode': '28025',\n",
       "    'cc': 'ES',\n",
       "    'city': 'Madrid',\n",
       "    'state': 'Madrid',\n",
       "    'country': 'España',\n",
       "    'formattedAddress': ['Codorniz 4 Bajo Posterior', '28025 Madrid Madrid']},\n",
       "   'categories': [{'id': '4f4532974b9074f6e4fb0104',\n",
       "     'name': 'Daycare',\n",
       "     'pluralName': 'Daycares',\n",
       "     'shortName': 'Daycare',\n",
       "     'icon': {'prefix': 'https://ss3.4sqi.net/img/categories_v2/shops/daycare_',\n",
       "      'suffix': '.png'},\n",
       "     'primary': True}],\n",
       "   'referralId': 'v-1621396357',\n",
       "   'hasPerk': False}]}"
      ]
     },
     "execution_count": 229,
     "metadata": {},
     "output_type": "execute_result"
    }
   ],
   "source": [
    "request"
   ]
  },
  {
   "cell_type": "code",
   "execution_count": 235,
   "metadata": {},
   "outputs": [],
   "source": [
    "a=gmaps.places_nearby(\n",
    "    location= coord,\n",
    "    radius=1500,\n",
    "    keyword= \"restaurante\"\n",
    ")"
   ]
  },
  {
   "cell_type": "code",
   "execution_count": 236,
   "metadata": {},
   "outputs": [
    {
     "data": {
      "text/plain": [
       "dict_keys(['html_attributions', 'next_page_token', 'results', 'status'])"
      ]
     },
     "execution_count": 236,
     "metadata": {},
     "output_type": "execute_result"
    }
   ],
   "source": [
    "a.keys()"
   ]
  },
  {
   "cell_type": "code",
   "execution_count": 239,
   "metadata": {},
   "outputs": [
    {
     "data": {
      "text/plain": [
       "{'business_status': 'OPERATIONAL',\n",
       " 'geometry': {'location': {'lat': 40.3800005, 'lng': -3.7490893},\n",
       "  'viewport': {'northeast': {'lat': 40.38160932989273,\n",
       "    'lng': -3.747422920107277},\n",
       "   'southwest': {'lat': 40.37890967010729, 'lng': -3.750122579892721}}},\n",
       " 'icon': 'https://maps.gstatic.com/mapfiles/place_api/icons/v1/png_71/bar-71.png',\n",
       " 'name': 'El Rincón del Greco',\n",
       " 'opening_hours': {'open_now': False},\n",
       " 'photos': [{'height': 3120,\n",
       "   'html_attributions': ['<a href=\"https://maps.google.com/maps/contrib/112670451980288672610\">A Google User</a>'],\n",
       "   'photo_reference': 'ATtYBwL-9tBPqatfDV933qyyAq00HOA76Le0zrk4KI6ET0UiLV-XzZcAyJ5jY4NrVIFarvvglZgnpub17QC4ob1olZxp-bML5rx__Lb-e3WlIi1dGe6y7xRJqtzPHLQDqNWzwOoTJxRlRiL8EZSvmTbiXNY1SuPsbwT0mEDJbzr-zvPIcaUr',\n",
       "   'width': 4160}],\n",
       " 'place_id': 'ChIJdd2wTi-IQQ0R32yOhGKM3pk',\n",
       " 'plus_code': {'compound_code': '97J2+29 Madrid',\n",
       "  'global_code': '8CGR97J2+29'},\n",
       " 'price_level': 1,\n",
       " 'rating': 4.5,\n",
       " 'reference': 'ChIJdd2wTi-IQQ0R32yOhGKM3pk',\n",
       " 'scope': 'GOOGLE',\n",
       " 'types': ['bar', 'restaurant', 'food', 'point_of_interest', 'establishment'],\n",
       " 'user_ratings_total': 642,\n",
       " 'vicinity': 'Av. de Ntra. Sra. de Fátima, 98, Madrid'}"
      ]
     },
     "execution_count": 239,
     "metadata": {},
     "output_type": "execute_result"
    }
   ],
   "source": [
    "a[\"results\"][0]"
   ]
  },
  {
   "cell_type": "code",
   "execution_count": 243,
   "metadata": {},
   "outputs": [],
   "source": []
  },
  {
   "cell_type": "code",
   "execution_count": 244,
   "metadata": {},
   "outputs": [],
   "source": []
  },
  {
   "cell_type": "code",
   "execution_count": 247,
   "metadata": {},
   "outputs": [],
   "source": [
    "body=driver.find_element_by_xpath (\"/html/body/div/div/section/div/div[4]/div/article/div[2]/div/div[3]/div/table/tbody\")"
   ]
  },
  {
   "cell_type": "code",
   "execution_count": 249,
   "metadata": {},
   "outputs": [],
   "source": [
    "tabladatos=[]\n",
    "for dato in body.find_elements_by_tag_name(\"tr\"):\n",
    "    fila=[d for d in dato.find_elements_by_tag_name (\"td\")]\n",
    "    if len (fila)>1 :\n",
    "        fila= {\n",
    "            \"codigo postal\": fila[0].text,\n",
    "            \"renta bruta media\": fila[1].text,\n",
    "            \"renta disponible media\": fila[2].text\n",
    "             }\n",
    "        tabladatos.append (fila)"
   ]
  },
  {
   "cell_type": "code",
   "execution_count": 261,
   "metadata": {},
   "outputs": [],
   "source": [
    "df= pd.DataFrame (tabladatos)"
   ]
  },
  {
   "cell_type": "code",
   "execution_count": 262,
   "metadata": {},
   "outputs": [
    {
     "data": {
      "text/html": [
       "<div>\n",
       "<style scoped>\n",
       "    .dataframe tbody tr th:only-of-type {\n",
       "        vertical-align: middle;\n",
       "    }\n",
       "\n",
       "    .dataframe tbody tr th {\n",
       "        vertical-align: top;\n",
       "    }\n",
       "\n",
       "    .dataframe thead th {\n",
       "        text-align: right;\n",
       "    }\n",
       "</style>\n",
       "<table border=\"1\" class=\"dataframe\">\n",
       "  <thead>\n",
       "    <tr style=\"text-align: right;\">\n",
       "      <th></th>\n",
       "      <th>codigo postal</th>\n",
       "      <th>renta bruta media</th>\n",
       "      <th>renta disponible media</th>\n",
       "    </tr>\n",
       "  </thead>\n",
       "  <tbody>\n",
       "    <tr>\n",
       "      <th>0</th>\n",
       "      <td>02001-San Antonio Abad- La Pajarita- Polígono ...</td>\n",
       "      <td>32.036</td>\n",
       "      <td>25.823</td>\n",
       "    </tr>\n",
       "    <tr>\n",
       "      <th>1</th>\n",
       "      <td>02002-Parque Sur-Huerta de Marzo (Albacete)</td>\n",
       "      <td>30.426</td>\n",
       "      <td>24.615</td>\n",
       "    </tr>\n",
       "    <tr>\n",
       "      <th>2</th>\n",
       "      <td>02003-Franciscanos (Albacete)</td>\n",
       "      <td>26.866</td>\n",
       "      <td>22.145</td>\n",
       "    </tr>\n",
       "    <tr>\n",
       "      <th>3</th>\n",
       "      <td>02004-Fátima- Villacerrada (Albacete)</td>\n",
       "      <td>23.072</td>\n",
       "      <td>19.449</td>\n",
       "    </tr>\n",
       "    <tr>\n",
       "      <th>4</th>\n",
       "      <td>02005-Industria- El Pilar- Feria- Ntra. Sra. d...</td>\n",
       "      <td>25.098</td>\n",
       "      <td>20.822</td>\n",
       "    </tr>\n",
       "    <tr>\n",
       "      <th>...</th>\n",
       "      <td>...</td>\n",
       "      <td>...</td>\n",
       "      <td>...</td>\n",
       "    </tr>\n",
       "    <tr>\n",
       "      <th>593</th>\n",
       "      <td>50190-Garrapinillos (Zaragoza)</td>\n",
       "      <td>29.913</td>\n",
       "      <td>24.229</td>\n",
       "    </tr>\n",
       "    <tr>\n",
       "      <th>594</th>\n",
       "      <td>50194-Movera-Torre Larraz (Zaragoza)</td>\n",
       "      <td>27.976</td>\n",
       "      <td>22.941</td>\n",
       "    </tr>\n",
       "    <tr>\n",
       "      <th>595</th>\n",
       "      <td>50620-Casetas (Zaragoza)</td>\n",
       "      <td>22.356</td>\n",
       "      <td>18.812</td>\n",
       "    </tr>\n",
       "    <tr>\n",
       "      <th>596</th>\n",
       "      <td>50720-Cartuja Baja (Zaragoza)</td>\n",
       "      <td>26.286</td>\n",
       "      <td>21.398</td>\n",
       "    </tr>\n",
       "    <tr>\n",
       "      <th>597</th>\n",
       "      <td>50820-San Juan de Mozarrifar (Zaragoza)</td>\n",
       "      <td>29.530</td>\n",
       "      <td>23.976</td>\n",
       "    </tr>\n",
       "  </tbody>\n",
       "</table>\n",
       "<p>598 rows × 3 columns</p>\n",
       "</div>"
      ],
      "text/plain": [
       "                                         codigo postal renta bruta media  \\\n",
       "0    02001-San Antonio Abad- La Pajarita- Polígono ...            32.036   \n",
       "1          02002-Parque Sur-Huerta de Marzo (Albacete)            30.426   \n",
       "2                        02003-Franciscanos (Albacete)            26.866   \n",
       "3                02004-Fátima- Villacerrada (Albacete)            23.072   \n",
       "4    02005-Industria- El Pilar- Feria- Ntra. Sra. d...            25.098   \n",
       "..                                                 ...               ...   \n",
       "593                     50190-Garrapinillos (Zaragoza)            29.913   \n",
       "594               50194-Movera-Torre Larraz (Zaragoza)            27.976   \n",
       "595                           50620-Casetas (Zaragoza)            22.356   \n",
       "596                      50720-Cartuja Baja (Zaragoza)            26.286   \n",
       "597            50820-San Juan de Mozarrifar (Zaragoza)            29.530   \n",
       "\n",
       "    renta disponible media  \n",
       "0                   25.823  \n",
       "1                   24.615  \n",
       "2                   22.145  \n",
       "3                   19.449  \n",
       "4                   20.822  \n",
       "..                     ...  \n",
       "593                 24.229  \n",
       "594                 22.941  \n",
       "595                 18.812  \n",
       "596                 21.398  \n",
       "597                 23.976  \n",
       "\n",
       "[598 rows x 3 columns]"
      ]
     },
     "execution_count": 262,
     "metadata": {},
     "output_type": "execute_result"
    }
   ],
   "source": [
    "df"
   ]
  },
  {
   "cell_type": "code",
   "execution_count": 255,
   "metadata": {},
   "outputs": [],
   "source": [
    "a=df[\"codigo postal\"][1]"
   ]
  },
  {
   "cell_type": "code",
   "execution_count": 257,
   "metadata": {},
   "outputs": [],
   "source": [
    "def limpia_codigo (a):\n",
    "    return a[:5]\n",
    "    "
   ]
  },
  {
   "cell_type": "code",
   "execution_count": 256,
   "metadata": {},
   "outputs": [
    {
     "data": {
      "text/plain": [
       "'02002-Parque Sur-Huerta de Marzo (Albacete)'"
      ]
     },
     "execution_count": 256,
     "metadata": {},
     "output_type": "execute_result"
    }
   ],
   "source": [
    "a"
   ]
  },
  {
   "cell_type": "code",
   "execution_count": 258,
   "metadata": {},
   "outputs": [
    {
     "data": {
      "text/plain": [
       "'02002'"
      ]
     },
     "execution_count": 258,
     "metadata": {},
     "output_type": "execute_result"
    }
   ],
   "source": [
    "limpia_codigo (a)"
   ]
  },
  {
   "cell_type": "code",
   "execution_count": 263,
   "metadata": {},
   "outputs": [],
   "source": [
    "df[\"codigo postal\"]= df[\"codigo postal\"].apply (limpia_codigo)"
   ]
  },
  {
   "cell_type": "code",
   "execution_count": 264,
   "metadata": {},
   "outputs": [
    {
     "data": {
      "text/html": [
       "<div>\n",
       "<style scoped>\n",
       "    .dataframe tbody tr th:only-of-type {\n",
       "        vertical-align: middle;\n",
       "    }\n",
       "\n",
       "    .dataframe tbody tr th {\n",
       "        vertical-align: top;\n",
       "    }\n",
       "\n",
       "    .dataframe thead th {\n",
       "        text-align: right;\n",
       "    }\n",
       "</style>\n",
       "<table border=\"1\" class=\"dataframe\">\n",
       "  <thead>\n",
       "    <tr style=\"text-align: right;\">\n",
       "      <th></th>\n",
       "      <th>codigo postal</th>\n",
       "      <th>renta bruta media</th>\n",
       "      <th>renta disponible media</th>\n",
       "    </tr>\n",
       "  </thead>\n",
       "  <tbody>\n",
       "    <tr>\n",
       "      <th>0</th>\n",
       "      <td>02001</td>\n",
       "      <td>32.036</td>\n",
       "      <td>25.823</td>\n",
       "    </tr>\n",
       "    <tr>\n",
       "      <th>1</th>\n",
       "      <td>02002</td>\n",
       "      <td>30.426</td>\n",
       "      <td>24.615</td>\n",
       "    </tr>\n",
       "    <tr>\n",
       "      <th>2</th>\n",
       "      <td>02003</td>\n",
       "      <td>26.866</td>\n",
       "      <td>22.145</td>\n",
       "    </tr>\n",
       "    <tr>\n",
       "      <th>3</th>\n",
       "      <td>02004</td>\n",
       "      <td>23.072</td>\n",
       "      <td>19.449</td>\n",
       "    </tr>\n",
       "    <tr>\n",
       "      <th>4</th>\n",
       "      <td>02005</td>\n",
       "      <td>25.098</td>\n",
       "      <td>20.822</td>\n",
       "    </tr>\n",
       "    <tr>\n",
       "      <th>...</th>\n",
       "      <td>...</td>\n",
       "      <td>...</td>\n",
       "      <td>...</td>\n",
       "    </tr>\n",
       "    <tr>\n",
       "      <th>593</th>\n",
       "      <td>50190</td>\n",
       "      <td>29.913</td>\n",
       "      <td>24.229</td>\n",
       "    </tr>\n",
       "    <tr>\n",
       "      <th>594</th>\n",
       "      <td>50194</td>\n",
       "      <td>27.976</td>\n",
       "      <td>22.941</td>\n",
       "    </tr>\n",
       "    <tr>\n",
       "      <th>595</th>\n",
       "      <td>50620</td>\n",
       "      <td>22.356</td>\n",
       "      <td>18.812</td>\n",
       "    </tr>\n",
       "    <tr>\n",
       "      <th>596</th>\n",
       "      <td>50720</td>\n",
       "      <td>26.286</td>\n",
       "      <td>21.398</td>\n",
       "    </tr>\n",
       "    <tr>\n",
       "      <th>597</th>\n",
       "      <td>50820</td>\n",
       "      <td>29.530</td>\n",
       "      <td>23.976</td>\n",
       "    </tr>\n",
       "  </tbody>\n",
       "</table>\n",
       "<p>598 rows × 3 columns</p>\n",
       "</div>"
      ],
      "text/plain": [
       "    codigo postal renta bruta media renta disponible media\n",
       "0           02001            32.036                 25.823\n",
       "1           02002            30.426                 24.615\n",
       "2           02003            26.866                 22.145\n",
       "3           02004            23.072                 19.449\n",
       "4           02005            25.098                 20.822\n",
       "..            ...               ...                    ...\n",
       "593         50190            29.913                 24.229\n",
       "594         50194            27.976                 22.941\n",
       "595         50620            22.356                 18.812\n",
       "596         50720            26.286                 21.398\n",
       "597         50820            29.530                 23.976\n",
       "\n",
       "[598 rows x 3 columns]"
      ]
     },
     "execution_count": 264,
     "metadata": {},
     "output_type": "execute_result"
    }
   ],
   "source": [
    "df"
   ]
  },
  {
   "cell_type": "code",
   "execution_count": 265,
   "metadata": {},
   "outputs": [],
   "source": [
    "df.to_csv (\"../Data/rentaporcp.csv\")"
   ]
  },
  {
   "cell_type": "code",
   "execution_count": 306,
   "metadata": {},
   "outputs": [],
   "source": [
    "rentacodigo = pd.read_csv (\"../Data/rentaporcp.csv\") "
   ]
  },
  {
   "cell_type": "code",
   "execution_count": 317,
   "metadata": {},
   "outputs": [
    {
     "data": {
      "text/html": [
       "<div>\n",
       "<style scoped>\n",
       "    .dataframe tbody tr th:only-of-type {\n",
       "        vertical-align: middle;\n",
       "    }\n",
       "\n",
       "    .dataframe tbody tr th {\n",
       "        vertical-align: top;\n",
       "    }\n",
       "\n",
       "    .dataframe thead th {\n",
       "        text-align: right;\n",
       "    }\n",
       "</style>\n",
       "<table border=\"1\" class=\"dataframe\">\n",
       "  <thead>\n",
       "    <tr style=\"text-align: right;\">\n",
       "      <th></th>\n",
       "      <th>Unnamed: 0</th>\n",
       "      <th>codigo postal</th>\n",
       "      <th>renta bruta media</th>\n",
       "      <th>renta disponible media</th>\n",
       "    </tr>\n",
       "  </thead>\n",
       "  <tbody>\n",
       "    <tr>\n",
       "      <th>0</th>\n",
       "      <td>0</td>\n",
       "      <td>2001</td>\n",
       "      <td>32.036</td>\n",
       "      <td>25.823</td>\n",
       "    </tr>\n",
       "    <tr>\n",
       "      <th>1</th>\n",
       "      <td>1</td>\n",
       "      <td>2002</td>\n",
       "      <td>30.426</td>\n",
       "      <td>24.615</td>\n",
       "    </tr>\n",
       "    <tr>\n",
       "      <th>2</th>\n",
       "      <td>2</td>\n",
       "      <td>2003</td>\n",
       "      <td>26.866</td>\n",
       "      <td>22.145</td>\n",
       "    </tr>\n",
       "    <tr>\n",
       "      <th>3</th>\n",
       "      <td>3</td>\n",
       "      <td>2004</td>\n",
       "      <td>23.072</td>\n",
       "      <td>19.449</td>\n",
       "    </tr>\n",
       "    <tr>\n",
       "      <th>4</th>\n",
       "      <td>4</td>\n",
       "      <td>2005</td>\n",
       "      <td>25.098</td>\n",
       "      <td>20.822</td>\n",
       "    </tr>\n",
       "    <tr>\n",
       "      <th>...</th>\n",
       "      <td>...</td>\n",
       "      <td>...</td>\n",
       "      <td>...</td>\n",
       "      <td>...</td>\n",
       "    </tr>\n",
       "    <tr>\n",
       "      <th>593</th>\n",
       "      <td>593</td>\n",
       "      <td>50190</td>\n",
       "      <td>29.913</td>\n",
       "      <td>24.229</td>\n",
       "    </tr>\n",
       "    <tr>\n",
       "      <th>594</th>\n",
       "      <td>594</td>\n",
       "      <td>50194</td>\n",
       "      <td>27.976</td>\n",
       "      <td>22.941</td>\n",
       "    </tr>\n",
       "    <tr>\n",
       "      <th>595</th>\n",
       "      <td>595</td>\n",
       "      <td>50620</td>\n",
       "      <td>22.356</td>\n",
       "      <td>18.812</td>\n",
       "    </tr>\n",
       "    <tr>\n",
       "      <th>596</th>\n",
       "      <td>596</td>\n",
       "      <td>50720</td>\n",
       "      <td>26.286</td>\n",
       "      <td>21.398</td>\n",
       "    </tr>\n",
       "    <tr>\n",
       "      <th>597</th>\n",
       "      <td>597</td>\n",
       "      <td>50820</td>\n",
       "      <td>29.530</td>\n",
       "      <td>23.976</td>\n",
       "    </tr>\n",
       "  </tbody>\n",
       "</table>\n",
       "<p>598 rows × 4 columns</p>\n",
       "</div>"
      ],
      "text/plain": [
       "     Unnamed: 0  codigo postal  renta bruta media  renta disponible media\n",
       "0             0           2001             32.036                  25.823\n",
       "1             1           2002             30.426                  24.615\n",
       "2             2           2003             26.866                  22.145\n",
       "3             3           2004             23.072                  19.449\n",
       "4             4           2005             25.098                  20.822\n",
       "..          ...            ...                ...                     ...\n",
       "593         593          50190             29.913                  24.229\n",
       "594         594          50194             27.976                  22.941\n",
       "595         595          50620             22.356                  18.812\n",
       "596         596          50720             26.286                  21.398\n",
       "597         597          50820             29.530                  23.976\n",
       "\n",
       "[598 rows x 4 columns]"
      ]
     },
     "execution_count": 317,
     "metadata": {},
     "output_type": "execute_result"
    }
   ],
   "source": [
    "rentacodigo"
   ]
  },
  {
   "cell_type": "code",
   "execution_count": 361,
   "metadata": {},
   "outputs": [],
   "source": [
    "def test_and_create( ubicacion, region):\n",
    "    \n",
    "    \"\"\" \n",
    "        Esta función recibo dos inputs del usuario, los utiliza para hacer una geolozalización mediante la api de google places, de la que\n",
    "        obtengo sus coordenadas, que guardamos en 2 formatos, y la dirección, que usaremos como nombre para las colecciones. Meto las variables\n",
    "        que me interesan en un diccionario, compruebo que la colección no exista por el nombre, si no existe la creo y cómo salida llamámos a\n",
    "        otra función pasándole el diccionario y el nombre de la colección\n",
    "    \"\"\"\n",
    "    try: \n",
    "        busqueda= ubicacion + \", \" + region #unimos en un string para pasarselo como búsqueda a gplaces\n",
    "        coords=gmaps.geocode( address= busqueda)\n",
    "        nombre = coords[0][\"address_components\"][5][\"short_name\"]\n",
    "        if len (nombre)<5:\n",
    "            return \"los datos introduucidos no son correctos\"\n",
    "        else:\n",
    "            pass\n",
    "        a=coords[0][\"geometry\"][\"location\"][\"lat\"] \n",
    "        b=coords[0][\"geometry\"][\"location\"][\"lng\"]\n",
    "        c = str (a) +\",\" + str(b) # Formato que luego entienda foursquare\n",
    "        print (nombre)\n",
    "        for n in range (len (rentacodigo)):\n",
    "            if rentacodigo[\"codigo postal\"][n] == nombre: \n",
    "                renta_neta= rentacodigo[\"renta disponible media\"][n]\n",
    "                renta_bruta= rentacodigo[\"renta bruta media\"][n]\n",
    "    \n",
    "                dic= {\"nombre\": nombre,\n",
    "                \"coordenadas\": c,\n",
    "                 \"latitud\":a,\n",
    "                 \"longitud\":b,\n",
    "                \"renta bruta\": renta_bruta,\n",
    "                 \"renta neta\": renta_neta}\n",
    "            else:\n",
    "                pass\n",
    "            \n",
    "       \n",
    "        \n",
    "        else:\n",
    "            \n",
    "            pass\n",
    "        \n",
    "        db.create_collection (nombre)   \n",
    "    except: \"los datos introducidos no son correctos\"\n",
    "        \n",
    "    return  dic"
   ]
  },
  {
   "cell_type": "code",
   "execution_count": 362,
   "metadata": {},
   "outputs": [
    {
     "ename": "UnboundLocalError",
     "evalue": "local variable 'dic' referenced before assignment",
     "output_type": "error",
     "traceback": [
      "\u001b[1;31m---------------------------------------------------------------------------\u001b[0m",
      "\u001b[1;31mUnboundLocalError\u001b[0m                         Traceback (most recent call last)",
      "\u001b[1;32m<ipython-input-362-e53a45427232>\u001b[0m in \u001b[0;36m<module>\u001b[1;34m\u001b[0m\n\u001b[1;32m----> 1\u001b[1;33m \u001b[0mtest_and_create\u001b[0m \u001b[1;33m(\u001b[0m\u001b[1;34m\"28018\"\u001b[0m\u001b[1;33m,\u001b[0m \u001b[1;34m\"madrid\"\u001b[0m\u001b[1;33m)\u001b[0m\u001b[1;33m\u001b[0m\u001b[1;33m\u001b[0m\u001b[0m\n\u001b[0m",
      "\u001b[1;32m<ipython-input-361-d571a827426a>\u001b[0m in \u001b[0;36mtest_and_create\u001b[1;34m(ubicacion, region)\u001b[0m\n\u001b[0;32m     42\u001b[0m     \u001b[1;32mexcept\u001b[0m\u001b[1;33m:\u001b[0m \u001b[1;34m\"los datos introducidos no son correctos\"\u001b[0m\u001b[1;33m\u001b[0m\u001b[1;33m\u001b[0m\u001b[0m\n\u001b[0;32m     43\u001b[0m \u001b[1;33m\u001b[0m\u001b[0m\n\u001b[1;32m---> 44\u001b[1;33m     \u001b[1;32mreturn\u001b[0m  \u001b[0mdic\u001b[0m\u001b[1;33m\u001b[0m\u001b[1;33m\u001b[0m\u001b[0m\n\u001b[0m",
      "\u001b[1;31mUnboundLocalError\u001b[0m: local variable 'dic' referenced before assignment"
     ]
    }
   ],
   "source": [
    "test_and_create (\"28018\", \"madrid\")"
   ]
  },
  {
   "cell_type": "code",
   "execution_count": 311,
   "metadata": {},
   "outputs": [],
   "source": [
    "def test (nombre):\n",
    "    \"\"\"\n",
    "        Función que comprueba si la colleción existe, devuelve un booleano\n",
    "    \"\"\"\n",
    "    lista= db.list_collection_names()\n",
    "    return nombre in lista"
   ]
  },
  {
   "cell_type": "code",
   "execution_count": 468,
   "metadata": {},
   "outputs": [],
   "source": [
    "coords=gmaps.geocode( address = \"50820, madrid\")"
   ]
  },
  {
   "cell_type": "code",
   "execution_count": 471,
   "metadata": {},
   "outputs": [
    {
     "data": {
      "text/plain": [
       "[{'address_components': [{'long_name': 'Madrid',\n",
       "    'short_name': 'Madrid',\n",
       "    'types': ['locality', 'political']},\n",
       "   {'long_name': 'Madrid',\n",
       "    'short_name': 'M',\n",
       "    'types': ['administrative_area_level_2', 'political']},\n",
       "   {'long_name': 'Community of Madrid',\n",
       "    'short_name': 'MD',\n",
       "    'types': ['administrative_area_level_1', 'political']},\n",
       "   {'long_name': 'Spain',\n",
       "    'short_name': 'ES',\n",
       "    'types': ['country', 'political']}],\n",
       "  'formatted_address': 'Madrid, Spain',\n",
       "  'geometry': {'bounds': {'northeast': {'lat': 40.5638447, 'lng': -3.5249115},\n",
       "    'southwest': {'lat': 40.3120639, 'lng': -3.8341618}},\n",
       "   'location': {'lat': 40.4167754, 'lng': -3.7037902},\n",
       "   'location_type': 'APPROXIMATE',\n",
       "   'viewport': {'northeast': {'lat': 40.5638447, 'lng': -3.5249115},\n",
       "    'southwest': {'lat': 40.3120639, 'lng': -3.8341618}}},\n",
       "  'place_id': 'ChIJgTwKgJcpQg0RaSKMYcHeNsQ',\n",
       "  'types': ['locality', 'political']}]"
      ]
     },
     "execution_count": 471,
     "metadata": {},
     "output_type": "execute_result"
    }
   ],
   "source": [
    "coords"
   ]
  },
  {
   "cell_type": "code",
   "execution_count": 484,
   "metadata": {
    "scrolled": true
   },
   "outputs": [
    {
     "data": {
      "text/plain": [
       "postal_code       5151554\n",
       "country_code          NaN\n",
       "place_name            NaN\n",
       "state_name            NaN\n",
       "state_code            NaN\n",
       "county_name           NaN\n",
       "county_code           NaN\n",
       "community_name        NaN\n",
       "community_code        NaN\n",
       "latitude              NaN\n",
       "longitude             NaN\n",
       "accuracy              NaN\n",
       "Name: 0, dtype: object"
      ]
     },
     "execution_count": 484,
     "metadata": {},
     "output_type": "execute_result"
    }
   ],
   "source": [
    "import pgeocode\n",
    "nomi = pgeocode.Nominatim(\"es\")\n",
    "a = nomi.query_postal_code(\"5151554\")\n",
    "a"
   ]
  },
  {
   "cell_type": "code",
   "execution_count": 497,
   "metadata": {},
   "outputs": [],
   "source": [
    "rentacodigo= pd.read_csv (\"../Data/rentaporcp.csv\")"
   ]
  },
  {
   "cell_type": "code",
   "execution_count": 498,
   "metadata": {
    "scrolled": true
   },
   "outputs": [
    {
     "data": {
      "text/plain": [
       "0      02001\n",
       "1      02002\n",
       "2      02003\n",
       "3      02004\n",
       "4      02005\n",
       "       ...  \n",
       "593    50190\n",
       "594    50194\n",
       "595    50620\n",
       "596    50720\n",
       "597    50820\n",
       "Name: codigo postal, Length: 598, dtype: object"
      ]
     },
     "execution_count": 498,
     "metadata": {},
     "output_type": "execute_result"
    }
   ],
   "source": [
    "rentacodigo['codigo postal'] = rentacodigo['codigo postal'].apply(lambda x: \"0\" + str(x) if len(str(x))==4 else str(x))\n",
    "#rentacodigo['codigo postal'] = rentacodigo['codigo postal'].apply(int)\n",
    "rentacodigo['codigo postal']"
   ]
  },
  {
   "cell_type": "code",
   "execution_count": 505,
   "metadata": {},
   "outputs": [],
   "source": [
    "def validar_codigo (cp):\n",
    "    '''Esta función comprueba que e lcódigo postal devuevla una dirección y que tenga una longitud de 5'''\n",
    "    \n",
    "    coords=gmaps.geocode( address= cp + \",\" + pais)\n",
    "    nombre = coords[0][\"address_components\"][0][\"short_name\"]\n",
    "    \n",
    "    if type(nombre) == int and len(nombre)==5:\n",
    "        return nombre\n",
    "    else:\n",
    "        nomi = pgeocode.Nominatim(\"es\")\n",
    "        a = nomi.query_postal_code(cp)\n",
    "        if a[\"latitude\"]==np.nan:\n",
    "            return \"Latitude es un NaN\"\n",
    "        else:\n",
    "            nombre=a[\"postal_code\"]\n",
    "            if len(nombre)==5:\n",
    "                return nombre"
   ]
  },
  {
   "cell_type": "code",
   "execution_count": 508,
   "metadata": {},
   "outputs": [],
   "source": [
    "def test_and_create(cp, pais): \n",
    "    \"\"\" \n",
    "        Esta función recibo dos inputs del usuario, los utiliza para hacer una geolozalización mediante la api de google places, de la que\n",
    "        obtengo sus coordenadas, que guardamos en 2 formatos, y la dirección, que usaremos como nombre para las colecciones. Meto las variables\n",
    "        que me interesan en un diccionario, compruebo que la colección no exista por el nombre, si no existe la creo y cómo salida llamámos a\n",
    "        otra función pasándole el diccionario y el nombre de la colección\n",
    "    \"\"\"\n",
    "    #Validamos el input\n",
    "    name = validar_codigo(cp)\n",
    "    \n",
    "    #Comprobamos que no esté creada\n",
    "    if test(nombre):\n",
    "        return nombre\n",
    "        \n",
    "    #Definimos coordenadas\n",
    "    a=coords[0][\"geometry\"][\"location\"][\"lat\"] \n",
    "    b=coords[0][\"geometry\"][\"location\"][\"lng\"]\n",
    "    c = str (a) +\",\" + str(b) # Formato que luego entienda foursquare\n",
    "    \n",
    "    #Renta\n",
    "    renta_neta=0\n",
    "    renta_bruta=0\n",
    "    \n",
    "    for n in range (len(rentacodigo)):\n",
    "        if rentacodigo[\"codigo postal\"][n] == str(nombre):\n",
    "                renta_neta += rentacodigo[\"renta disponible media\"][n]\n",
    "                renta_bruta += rentacodigo[\"renta bruta media\"][n]\n",
    "        else:\n",
    "            print(\"El código postal no se encuentra en el df\")\n",
    "        \n",
    "        #Creamos el diccionario\n",
    "        dic= {          \"nombre\": nombre,\n",
    "                        \"coordenadas\": c,\n",
    "                        \"latitud\":a,\n",
    "                        \"longitud\":b,\n",
    "                        \"renta bruta\": renta_bruta,\n",
    "                        \"renta neta\": renta_neta}\n",
    "    \n",
    "    #Creamos la colección\n",
    "    db.create_collection (str(nombre))   \n",
    "    \n",
    "        \n",
    "    return  get_ (nombre, dic)"
   ]
  },
  {
   "cell_type": "code",
   "execution_count": 509,
   "metadata": {},
   "outputs": [
    {
     "name": "stdout",
     "output_type": "stream",
     "text": [
      "02001 50820\n",
      "02002 50820\n",
      "02003 50820\n",
      "02004 50820\n",
      "02005 50820\n",
      "02006 50820\n",
      "02008 50820\n",
      "02049 50820\n",
      "03001 50820\n",
      "03002 50820\n",
      "03003 50820\n",
      "03004 50820\n",
      "03005 50820\n",
      "03006 50820\n",
      "03007 50820\n",
      "03008 50820\n",
      "03009 50820\n",
      "03010 50820\n",
      "03011 50820\n",
      "03012 50820\n",
      "03013 50820\n",
      "03014 50820\n",
      "03015 50820\n",
      "03016 50820\n",
      "03112 50820\n",
      "03113 50820\n",
      "03195 50820\n",
      "03201 50820\n",
      "03202 50820\n",
      "03203 50820\n",
      "03204 50820\n",
      "03205 50820\n",
      "03206 50820\n",
      "03208 50820\n",
      "03291 50820\n",
      "03292 50820\n",
      "03293 50820\n",
      "03294 50820\n",
      "03295 50820\n",
      "03296 50820\n",
      "03320 50820\n",
      "03540 50820\n",
      "03699 50820\n",
      "04001 50820\n",
      "04002 50820\n",
      "04003 50820\n",
      "04004 50820\n",
      "04005 50820\n",
      "04006 50820\n",
      "04007 50820\n",
      "04008 50820\n",
      "04009 50820\n",
      "04120 50820\n",
      "04130 50820\n",
      "04131 50820\n",
      "07001 50820\n",
      "07002 50820\n",
      "07003 50820\n",
      "07004 50820\n",
      "07005 50820\n",
      "07006 50820\n",
      "07007 50820\n",
      "07008 50820\n",
      "07009 50820\n",
      "07010 50820\n",
      "07011 50820\n",
      "07012 50820\n",
      "07013 50820\n",
      "07014 50820\n",
      "07015 50820\n",
      "07120 50820\n",
      "07198 50820\n",
      "07199 50820\n",
      "07600 50820\n",
      "07610 50820\n",
      "08001 50820\n",
      "08002 50820\n",
      "08003 50820\n",
      "08004 50820\n",
      "08005 50820\n",
      "08006 50820\n",
      "08007 50820\n",
      "08008 50820\n",
      "08009 50820\n",
      "08010 50820\n",
      "08011 50820\n",
      "08012 50820\n",
      "08013 50820\n",
      "08014 50820\n",
      "08015 50820\n",
      "08016 50820\n",
      "08017 50820\n",
      "08018 50820\n",
      "08019 50820\n",
      "08020 50820\n",
      "08021 50820\n",
      "08022 50820\n",
      "08023 50820\n",
      "08024 50820\n",
      "08025 50820\n",
      "08026 50820\n",
      "08027 50820\n",
      "08028 50820\n",
      "08029 50820\n",
      "08030 50820\n",
      "08031 50820\n",
      "08032 50820\n",
      "08033 50820\n",
      "08034 50820\n",
      "08035 50820\n",
      "08036 50820\n",
      "08037 50820\n",
      "08038 50820\n",
      "08041 50820\n",
      "08042 50820\n",
      "08172 50820\n",
      "08173 50820\n",
      "08174 50820\n",
      "08195 50820\n",
      "08197 50820\n",
      "08198 50820\n",
      "08201 50820\n",
      "08202 50820\n",
      "08203 50820\n",
      "08204 50820\n",
      "08205 50820\n",
      "08206 50820\n",
      "08207 50820\n",
      "08208 50820\n",
      "08221 50820\n",
      "08222 50820\n",
      "08223 50820\n",
      "08224 50820\n",
      "08225 50820\n",
      "08226 50820\n",
      "08227 50820\n",
      "08228 50820\n",
      "08901 50820\n",
      "08902 50820\n",
      "08903 50820\n",
      "08904 50820\n",
      "08905 50820\n",
      "08906 50820\n",
      "08907 50820\n",
      "08908 50820\n",
      "08911 50820\n",
      "08912 50820\n",
      "08913 50820\n",
      "08914 50820\n",
      "08915 50820\n",
      "08916 50820\n",
      "08917 50820\n",
      "08918 50820\n",
      "09001 50820\n",
      "09002 50820\n",
      "09003 50820\n",
      "09004 50820\n",
      "09005 50820\n",
      "09006 50820\n",
      "09007 50820\n",
      "11400 50820\n",
      "11401 50820\n",
      "11402 50820\n",
      "11403 50820\n",
      "11404 50820\n",
      "11405 50820\n",
      "11406 50820\n",
      "11407 50820\n",
      "11408 50820\n",
      "11570 50820\n",
      "11591 50820\n",
      "12001 50820\n",
      "12002 50820\n",
      "12003 50820\n",
      "12004 50820\n",
      "12005 50820\n",
      "12006 50820\n",
      "12100 50820\n",
      "14001 50820\n",
      "14002 50820\n",
      "14003 50820\n",
      "14004 50820\n",
      "14005 50820\n",
      "14006 50820\n",
      "14007 50820\n",
      "14008 50820\n",
      "14009 50820\n",
      "14010 50820\n",
      "14011 50820\n",
      "14012 50820\n",
      "14013 50820\n",
      "14014 50820\n",
      "14193 50820\n",
      "14610 50820\n",
      "14710 50820\n",
      "15001 50820\n",
      "15002 50820\n",
      "15003 50820\n",
      "15004 50820\n",
      "15005 50820\n",
      "15006 50820\n",
      "15007 50820\n",
      "15008 50820\n",
      "15009 50820\n",
      "15010 50820\n",
      "15011 50820\n",
      "15190 50820\n",
      "18001 50820\n",
      "18002 50820\n",
      "18003 50820\n",
      "18004 50820\n",
      "18005 50820\n",
      "18006 50820\n",
      "18007 50820\n",
      "18008 50820\n",
      "18009 50820\n",
      "18010 50820\n",
      "18011 50820\n",
      "18012 50820\n",
      "18013 50820\n",
      "18014 50820\n",
      "18015 50820\n",
      "26001 50820\n",
      "26002 50820\n",
      "26003 50820\n",
      "26004 50820\n",
      "26005 50820\n",
      "26006 50820\n",
      "26007 50820\n",
      "26008 50820\n",
      "28001 50820\n",
      "28002 50820\n",
      "28003 50820\n",
      "28004 50820\n",
      "28005 50820\n",
      "28006 50820\n",
      "28007 50820\n",
      "28008 50820\n",
      "28009 50820\n",
      "28010 50820\n",
      "28011 50820\n",
      "28012 50820\n",
      "28013 50820\n",
      "28014 50820\n",
      "28015 50820\n",
      "28016 50820\n",
      "28017 50820\n",
      "28018 50820\n",
      "28019 50820\n",
      "28020 50820\n",
      "28021 50820\n",
      "28022 50820\n",
      "28023 50820\n",
      "28024 50820\n",
      "28025 50820\n",
      "28026 50820\n",
      "28027 50820\n",
      "28028 50820\n",
      "28029 50820\n",
      "28030 50820\n",
      "28031 50820\n",
      "28032 50820\n",
      "28033 50820\n",
      "28034 50820\n",
      "28035 50820\n",
      "28036 50820\n",
      "28037 50820\n",
      "28038 50820\n",
      "28039 50820\n",
      "28040 50820\n",
      "28041 50820\n",
      "28042 50820\n",
      "28043 50820\n",
      "28044 50820\n",
      "28045 50820\n",
      "28046 50820\n",
      "28047 50820\n",
      "28048 50820\n",
      "28049 50820\n",
      "28050 50820\n",
      "28051 50820\n",
      "28053 50820\n",
      "28054 50820\n",
      "28055 50820\n",
      "28100 50820\n",
      "28108 50820\n",
      "28109 50820\n",
      "28223 50820\n",
      "28224 50820\n",
      "28231 50820\n",
      "28232 50820\n",
      "28290 50820\n",
      "28801 50820\n",
      "28802 50820\n",
      "28803 50820\n",
      "28804 50820\n",
      "28805 50820\n",
      "28806 50820\n",
      "28807 50820\n",
      "28901 50820\n",
      "28902 50820\n",
      "28903 50820\n",
      "28904 50820\n",
      "28905 50820\n",
      "28906 50820\n",
      "28907 50820\n",
      "28909 50820\n",
      "28911 50820\n",
      "28912 50820\n",
      "28913 50820\n",
      "28914 50820\n",
      "28915 50820\n",
      "28916 50820\n",
      "28917 50820\n",
      "28918 50820\n",
      "28919 50820\n",
      "28921 50820\n",
      "28922 50820\n",
      "28923 50820\n",
      "28924 50820\n",
      "28925 50820\n",
      "28931 50820\n",
      "28932 50820\n",
      "28933 50820\n",
      "28934 50820\n",
      "28935 50820\n",
      "28936 50820\n",
      "28937 50820\n",
      "28938 50820\n",
      "29001 50820\n",
      "29002 50820\n",
      "29003 50820\n",
      "29004 50820\n",
      "29006 50820\n",
      "29007 50820\n",
      "29008 50820\n",
      "29009 50820\n",
      "29010 50820\n",
      "29011 50820\n",
      "29012 50820\n",
      "29013 50820\n",
      "29014 50820\n",
      "29016 50820\n",
      "29017 50820\n",
      "29018 50820\n",
      "29140 50820\n",
      "29190 50820\n",
      "29590 50820\n",
      "29591 50820\n",
      "30001 50820\n",
      "30002 50820\n",
      "30003 50820\n",
      "30004 50820\n",
      "30005 50820\n",
      "30006 50820\n",
      "30007 50820\n",
      "30008 50820\n",
      "30009 50820\n",
      "30010 50820\n",
      "30011 50820\n",
      "30012 50820\n",
      "30100 50820\n",
      "30107 50820\n",
      "30110 50820\n",
      "30120 50820\n",
      "30139 50820\n",
      "30150 50820\n",
      "30151 50820\n",
      "30152 50820\n",
      "30153 50820\n",
      "30157 50820\n",
      "30158 50820\n",
      "30160 50820\n",
      "30161 50820\n",
      "30162 50820\n",
      "30163 50820\n",
      "30168 50820\n",
      "30169 50820\n",
      "30201 50820\n",
      "30202 50820\n",
      "30203 50820\n",
      "30204 50820\n",
      "30205 50820\n",
      "30300 50820\n",
      "30310 50820\n",
      "30319 50820\n",
      "30330 50820\n",
      "30366 50820\n",
      "30370 50820\n",
      "30380 50820\n",
      "30385 50820\n",
      "30390 50820\n",
      "30393 50820\n",
      "30394 50820\n",
      "30395 50820\n",
      "30570 50820\n",
      "30579 50820\n",
      "30580 50820\n",
      "30589 50820\n",
      "30590 50820\n",
      "30593 50820\n",
      "30594 50820\n",
      "30830 50820\n",
      "30832 50820\n",
      "30833 50820\n",
      "30835 50820\n",
      "33001 50820\n",
      "33002 50820\n",
      "33003 50820\n",
      "33004 50820\n",
      "33005 50820\n",
      "33006 50820\n",
      "33007 50820\n",
      "33008 50820\n",
      "33009 50820\n",
      "33010 50820\n",
      "33011 50820\n",
      "33012 50820\n",
      "33013 50820\n",
      "33191 50820\n",
      "33201 50820\n",
      "33202 50820\n",
      "33203 50820\n",
      "33204 50820\n",
      "33205 50820\n",
      "33206 50820\n",
      "33207 50820\n",
      "33208 50820\n",
      "33209 50820\n",
      "33210 50820\n",
      "33211 50820\n",
      "33212 50820\n",
      "33213 50820\n",
      "33350 50820\n",
      "33391 50820\n",
      "33392 50820\n",
      "33394 50820\n",
      "35001 50820\n",
      "35002 50820\n",
      "35003 50820\n",
      "35004 50820\n",
      "35005 50820\n",
      "35006 50820\n",
      "35007 50820\n",
      "35008 50820\n",
      "35009 50820\n",
      "35010 50820\n",
      "35011 50820\n",
      "35012 50820\n",
      "35013 50820\n",
      "35014 50820\n",
      "35015 50820\n",
      "35016 50820\n",
      "35017 50820\n",
      "35018 50820\n",
      "35019 50820\n",
      "36201 50820\n",
      "36202 50820\n",
      "36203 50820\n",
      "36204 50820\n",
      "36205 50820\n",
      "36206 50820\n",
      "36207 50820\n",
      "36208 50820\n",
      "36209 50820\n",
      "36210 50820\n",
      "36211 50820\n",
      "36212 50820\n",
      "36213 50820\n",
      "36214 50820\n",
      "36215 50820\n",
      "36216 50820\n",
      "36312 50820\n",
      "36315 50820\n",
      "36317 50820\n",
      "36318 50820\n",
      "36330 50820\n",
      "36331 50820\n",
      "36390 50820\n",
      "38001 50820\n",
      "38002 50820\n",
      "38003 50820\n",
      "38004 50820\n",
      "38005 50820\n",
      "38006 50820\n",
      "38007 50820\n",
      "38008 50820\n",
      "38009 50820\n",
      "38010 50820\n",
      "38107 50820\n",
      "38108 50820\n",
      "38109 50820\n",
      "38111 50820\n",
      "38120 50820\n",
      "38180 50820\n",
      "39001 50820\n",
      "39002 50820\n",
      "39003 50820\n",
      "39004 50820\n",
      "39005 50820\n",
      "39006 50820\n",
      "39007 50820\n",
      "39008 50820\n",
      "39009 50820\n",
      "39010 50820\n",
      "39011 50820\n",
      "39012 50820\n",
      "41001 50820\n",
      "41002 50820\n",
      "41003 50820\n",
      "41004 50820\n",
      "41005 50820\n",
      "41006 50820\n",
      "41007 50820\n",
      "41008 50820\n",
      "41009 50820\n",
      "41010 50820\n",
      "41011 50820\n",
      "41012 50820\n",
      "41013 50820\n",
      "41014 50820\n",
      "41015 50820\n",
      "41016 50820\n",
      "41018 50820\n",
      "41019 50820\n",
      "41020 50820\n",
      "46001 50820\n",
      "46002 50820\n",
      "46003 50820\n",
      "46004 50820\n",
      "46005 50820\n",
      "46006 50820\n",
      "46007 50820\n",
      "46008 50820\n",
      "46009 50820\n",
      "46010 50820\n",
      "46011 50820\n",
      "46012 50820\n",
      "46013 50820\n",
      "46014 50820\n",
      "46015 50820\n",
      "46016 50820\n",
      "46017 50820\n",
      "46018 50820\n",
      "46019 50820\n",
      "46020 50820\n",
      "46021 50820\n",
      "46022 50820\n",
      "46023 50820\n",
      "46024 50820\n",
      "46025 50820\n",
      "46026 50820\n",
      "46035 50820\n",
      "46112 50820\n",
      "47001 50820\n",
      "47002 50820\n",
      "47003 50820\n",
      "47004 50820\n",
      "47005 50820\n",
      "47006 50820\n",
      "47007 50820\n",
      "47008 50820\n",
      "47009 50820\n",
      "47010 50820\n",
      "47011 50820\n",
      "47012 50820\n",
      "47013 50820\n",
      "47014 50820\n",
      "47015 50820\n",
      "47016 50820\n",
      "50001 50820\n",
      "50002 50820\n",
      "50003 50820\n",
      "50004 50820\n",
      "50005 50820\n",
      "50006 50820\n",
      "50007 50820\n",
      "50008 50820\n",
      "50009 50820\n",
      "50010 50820\n",
      "50011 50820\n",
      "50012 50820\n",
      "50013 50820\n",
      "50014 50820\n",
      "50015 50820\n",
      "50016 50820\n",
      "50017 50820\n",
      "50018 50820\n",
      "50019 50820\n",
      "50021 50820\n",
      "50022 50820\n",
      "50059 50820\n",
      "50120 50820\n",
      "50190 50820\n",
      "50194 50820\n",
      "50620 50820\n",
      "50720 50820\n"
     ]
    },
    {
     "data": {
      "text/plain": [
       "{'nombre': 50820,\n",
       " 'coordenadas': '40.4167754,-3.7037902',\n",
       " 'latitud': 40.4167754,\n",
       " 'longitud': -3.7037902,\n",
       " 'renta bruta': 29.53,\n",
       " 'renta neta': 23.976}"
      ]
     },
     "execution_count": 509,
     "metadata": {},
     "output_type": "execute_result"
    }
   ],
   "source": [
    "import numpy as np\n",
    "test_and_create (\"50820\", \"madrid\")"
   ]
  },
  {
   "cell_type": "code",
   "execution_count": 369,
   "metadata": {},
   "outputs": [],
   "source": [
    "def get_(nombre, dic):\n",
    "    return dic"
   ]
  },
  {
   "cell_type": "code",
   "execution_count": 446,
   "metadata": {},
   "outputs": [
    {
     "data": {
      "text/html": [
       "<div>\n",
       "<style scoped>\n",
       "    .dataframe tbody tr th:only-of-type {\n",
       "        vertical-align: middle;\n",
       "    }\n",
       "\n",
       "    .dataframe tbody tr th {\n",
       "        vertical-align: top;\n",
       "    }\n",
       "\n",
       "    .dataframe thead th {\n",
       "        text-align: right;\n",
       "    }\n",
       "</style>\n",
       "<table border=\"1\" class=\"dataframe\">\n",
       "  <thead>\n",
       "    <tr style=\"text-align: right;\">\n",
       "      <th></th>\n",
       "      <th>Unnamed: 0</th>\n",
       "      <th>codigo postal</th>\n",
       "      <th>renta bruta media</th>\n",
       "      <th>renta disponible media</th>\n",
       "    </tr>\n",
       "  </thead>\n",
       "  <tbody>\n",
       "    <tr>\n",
       "      <th>0</th>\n",
       "      <td>0</td>\n",
       "      <td>2001</td>\n",
       "      <td>32.036</td>\n",
       "      <td>25.823</td>\n",
       "    </tr>\n",
       "    <tr>\n",
       "      <th>1</th>\n",
       "      <td>1</td>\n",
       "      <td>2002</td>\n",
       "      <td>30.426</td>\n",
       "      <td>24.615</td>\n",
       "    </tr>\n",
       "    <tr>\n",
       "      <th>2</th>\n",
       "      <td>2</td>\n",
       "      <td>2003</td>\n",
       "      <td>26.866</td>\n",
       "      <td>22.145</td>\n",
       "    </tr>\n",
       "    <tr>\n",
       "      <th>3</th>\n",
       "      <td>3</td>\n",
       "      <td>2004</td>\n",
       "      <td>23.072</td>\n",
       "      <td>19.449</td>\n",
       "    </tr>\n",
       "    <tr>\n",
       "      <th>4</th>\n",
       "      <td>4</td>\n",
       "      <td>2005</td>\n",
       "      <td>25.098</td>\n",
       "      <td>20.822</td>\n",
       "    </tr>\n",
       "    <tr>\n",
       "      <th>...</th>\n",
       "      <td>...</td>\n",
       "      <td>...</td>\n",
       "      <td>...</td>\n",
       "      <td>...</td>\n",
       "    </tr>\n",
       "    <tr>\n",
       "      <th>593</th>\n",
       "      <td>593</td>\n",
       "      <td>50190</td>\n",
       "      <td>29.913</td>\n",
       "      <td>24.229</td>\n",
       "    </tr>\n",
       "    <tr>\n",
       "      <th>594</th>\n",
       "      <td>594</td>\n",
       "      <td>50194</td>\n",
       "      <td>27.976</td>\n",
       "      <td>22.941</td>\n",
       "    </tr>\n",
       "    <tr>\n",
       "      <th>595</th>\n",
       "      <td>595</td>\n",
       "      <td>50620</td>\n",
       "      <td>22.356</td>\n",
       "      <td>18.812</td>\n",
       "    </tr>\n",
       "    <tr>\n",
       "      <th>596</th>\n",
       "      <td>596</td>\n",
       "      <td>50720</td>\n",
       "      <td>26.286</td>\n",
       "      <td>21.398</td>\n",
       "    </tr>\n",
       "    <tr>\n",
       "      <th>597</th>\n",
       "      <td>597</td>\n",
       "      <td>50820</td>\n",
       "      <td>29.530</td>\n",
       "      <td>23.976</td>\n",
       "    </tr>\n",
       "  </tbody>\n",
       "</table>\n",
       "<p>598 rows × 4 columns</p>\n",
       "</div>"
      ],
      "text/plain": [
       "     Unnamed: 0  codigo postal  renta bruta media  renta disponible media\n",
       "0             0           2001             32.036                  25.823\n",
       "1             1           2002             30.426                  24.615\n",
       "2             2           2003             26.866                  22.145\n",
       "3             3           2004             23.072                  19.449\n",
       "4             4           2005             25.098                  20.822\n",
       "..          ...            ...                ...                     ...\n",
       "593         593          50190             29.913                  24.229\n",
       "594         594          50194             27.976                  22.941\n",
       "595         595          50620             22.356                  18.812\n",
       "596         596          50720             26.286                  21.398\n",
       "597         597          50820             29.530                  23.976\n",
       "\n",
       "[598 rows x 4 columns]"
      ]
     },
     "execution_count": 446,
     "metadata": {},
     "output_type": "execute_result"
    }
   ],
   "source": [
    "rentacodigo"
   ]
  },
  {
   "cell_type": "code",
   "execution_count": 437,
   "metadata": {},
   "outputs": [
    {
     "data": {
      "text/plain": [
       "[{'long_name': '28018', 'short_name': '28018', 'types': ['postal_code']},\n",
       " {'long_name': 'Madrid',\n",
       "  'short_name': 'Madrid',\n",
       "  'types': ['locality', 'political']},\n",
       " {'long_name': 'Madrid',\n",
       "  'short_name': 'M',\n",
       "  'types': ['administrative_area_level_2', 'political']},\n",
       " {'long_name': 'Community of Madrid',\n",
       "  'short_name': 'MD',\n",
       "  'types': ['administrative_area_level_1', 'political']},\n",
       " {'long_name': 'Spain', 'short_name': 'ES', 'types': ['country', 'political']}]"
      ]
     },
     "execution_count": 437,
     "metadata": {},
     "output_type": "execute_result"
    }
   ],
   "source": [
    "coords[0]['address_components']"
   ]
  },
  {
   "cell_type": "code",
   "execution_count": 443,
   "metadata": {},
   "outputs": [
    {
     "data": {
      "text/plain": [
       "'28004'"
      ]
     },
     "execution_count": 443,
     "metadata": {},
     "output_type": "execute_result"
    }
   ],
   "source": [
    "coords2[0]['address_components'][6].get (\"long_name\")"
   ]
  },
  {
   "cell_type": "code",
   "execution_count": 444,
   "metadata": {},
   "outputs": [
    {
     "data": {
      "text/plain": [
       "'28004'"
      ]
     },
     "execution_count": 444,
     "metadata": {},
     "output_type": "execute_result"
    }
   ],
   "source": [
    "coords2[0]['address_components'][6][\"long_name\"]"
   ]
  },
  {
   "cell_type": "code",
   "execution_count": null,
   "metadata": {},
   "outputs": [],
   "source": []
  }
 ],
 "metadata": {
  "kernelspec": {
   "display_name": "Python 3",
   "language": "python",
   "name": "python3"
  },
  "language_info": {
   "codemirror_mode": {
    "name": "ipython",
    "version": 3
   },
   "file_extension": ".py",
   "mimetype": "text/x-python",
   "name": "python",
   "nbconvert_exporter": "python",
   "pygments_lexer": "ipython3",
   "version": "3.7.10"
  }
 },
 "nbformat": 4,
 "nbformat_minor": 4
}
