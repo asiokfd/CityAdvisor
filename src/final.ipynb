{
 "cells": [
  {
   "cell_type": "code",
   "execution_count": 1,
   "metadata": {},
   "outputs": [],
   "source": [
    "import pandas as pd\n",
    "from selenium import webdriver\n",
    "from dotenv import load_dotenv\n",
    "from googlemaps import convert\n",
    "import googlemaps\n",
    "import os\n",
    "import requests\n",
    "import json\n",
    "from coordenadas import pasando_a_string\n",
    "from coordenadas import get_coordenadas\n",
    "from coordenadas import rellenando_datasetfsq\n",
    "import foursquare\n",
    "from config import dic_categorias\n",
    "from pymongo import MongoClient"
   ]
  },
  {
   "cell_type": "code",
   "execution_count": 2,
   "metadata": {},
   "outputs": [
    {
     "data": {
      "text/plain": [
       "True"
      ]
     },
     "execution_count": 2,
     "metadata": {},
     "output_type": "execute_result"
    }
   ],
   "source": [
    "load_dotenv()"
   ]
  },
  {
   "cell_type": "code",
   "execution_count": 3,
   "metadata": {},
   "outputs": [],
   "source": [
    "tokg = os.getenv(\"tokg\")\n",
    "tokf3 = os.getenv (\"tokf3\")\n",
    "client2= MongoClient (\"localhost:27017\")"
   ]
  },
  {
   "cell_type": "code",
   "execution_count": 354,
   "metadata": {},
   "outputs": [],
   "source": [
    "client = foursquare.Foursquare( access_token= tokf3 )\n",
    "gmaps = googlemaps.Client(key= tokg )\n",
    "db = client2.get_database(\"ciudades\")"
   ]
  },
  {
   "cell_type": "markdown",
   "metadata": {},
   "source": [
    "# he borrado todo lo que tenia de datasets, y empiezo directamente con lo que sería el flujo de la api"
   ]
  },
  {
   "cell_type": "markdown",
   "metadata": {},
   "source": [
    "input: ciudad y pais"
   ]
  },
  {
   "cell_type": "code",
   "execution_count": 53,
   "metadata": {},
   "outputs": [],
   "source": [
    "dallas=\"-23.5505199, -46.633\""
   ]
  },
  {
   "cell_type": "code",
   "execution_count": 67,
   "metadata": {},
   "outputs": [],
   "source": [
    "pruebadallas=client.venues.search(params={'query': 'hotel', 'll': \"32.7766642,-96.79698789999999\", \"radius\": 2000, \"limit\": 50})"
   ]
  },
  {
   "cell_type": "code",
   "execution_count": 391,
   "metadata": {},
   "outputs": [
    {
     "data": {
      "text/plain": [
       "[{'address_components': [{'long_name': 'Toledo',\n",
       "    'short_name': 'Toledo',\n",
       "    'types': ['locality', 'political']},\n",
       "   {'long_name': 'Lucas County',\n",
       "    'short_name': 'Lucas County',\n",
       "    'types': ['administrative_area_level_2', 'political']},\n",
       "   {'long_name': 'Ohio',\n",
       "    'short_name': 'OH',\n",
       "    'types': ['administrative_area_level_1', 'political']},\n",
       "   {'long_name': 'United States',\n",
       "    'short_name': 'US',\n",
       "    'types': ['country', 'political']}],\n",
       "  'formatted_address': 'Toledo, OH, USA',\n",
       "  'geometry': {'bounds': {'northeast': {'lat': 41.732844, 'lng': -83.454229},\n",
       "    'southwest': {'lat': 41.580266, 'lng': -83.6942832}},\n",
       "   'location': {'lat': 41.6528052, 'lng': -83.5378674},\n",
       "   'location_type': 'APPROXIMATE',\n",
       "   'viewport': {'northeast': {'lat': 41.732844, 'lng': -83.454229},\n",
       "    'southwest': {'lat': 41.580266, 'lng': -83.6942832}}},\n",
       "  'place_id': 'ChIJeU4e_C2HO4gRRcM6RZ_IPHw',\n",
       "  'types': ['locality', 'political']}]"
      ]
     },
     "execution_count": 391,
     "metadata": {},
     "output_type": "execute_result"
    }
   ],
   "source": [
    "gmaps.geocode( address= \"toledo\")"
   ]
  },
  {
   "cell_type": "code",
   "execution_count": 392,
   "metadata": {},
   "outputs": [
    {
     "data": {
      "text/plain": [
       "[{'address_components': [{'long_name': 'Toledo',\n",
       "    'short_name': 'Toledo',\n",
       "    'types': ['locality', 'political']},\n",
       "   {'long_name': 'Toledo',\n",
       "    'short_name': 'TO',\n",
       "    'types': ['administrative_area_level_2', 'political']},\n",
       "   {'long_name': 'Castile-La Mancha',\n",
       "    'short_name': 'CM',\n",
       "    'types': ['administrative_area_level_1', 'political']},\n",
       "   {'long_name': 'Spain',\n",
       "    'short_name': 'ES',\n",
       "    'types': ['country', 'political']}],\n",
       "  'formatted_address': 'Toledo, Spain',\n",
       "  'geometry': {'bounds': {'northeast': {'lat': 39.88605099999999,\n",
       "     'lng': -3.9192423},\n",
       "    'southwest': {'lat': 39.8383676, 'lng': -4.0796176}},\n",
       "   'location': {'lat': 39.8628316, 'lng': -4.027323099999999},\n",
       "   'location_type': 'APPROXIMATE',\n",
       "   'viewport': {'northeast': {'lat': 39.88605099999999, 'lng': -3.9192423},\n",
       "    'southwest': {'lat': 39.8383676, 'lng': -4.0796176}}},\n",
       "  'place_id': 'ChIJ8f21C60Lag0R_q11auhbf8Y',\n",
       "  'types': ['locality', 'political']}]"
      ]
     },
     "execution_count": 392,
     "metadata": {},
     "output_type": "execute_result"
    }
   ],
   "source": [
    "gmaps.geocode( address= \"toledo, españa\")"
   ]
  },
  {
   "cell_type": "code",
   "execution_count": 336,
   "metadata": {},
   "outputs": [],
   "source": [
    "a=db.list_collection_names()"
   ]
  },
  {
   "cell_type": "code",
   "execution_count": 389,
   "metadata": {},
   "outputs": [],
   "source": [
    "test_and_create (\"dallas\", \"usa\")"
   ]
  },
  {
   "cell_type": "code",
   "execution_count": 108,
   "metadata": {},
   "outputs": [
    {
     "data": {
      "text/plain": [
       "Collection(Database(MongoClient(host=['localhost:27017'], document_class=dict, tz_aware=False, connect=True), 'ciudades'), '-23.5505199, -46.633')"
      ]
     },
     "execution_count": 108,
     "metadata": {},
     "output_type": "execute_result"
    }
   ],
   "source": [
    "def test (c):\n",
    "    "
   ]
  },
  {
   "cell_type": "code",
   "execution_count": 388,
   "metadata": {},
   "outputs": [],
   "source": [
    "def test_and_create( ciudad, pais):\n",
    "    try:   \n",
    "            busqueda= ciudad + \", \" + pais #unimos en un string para pasarselo como búsqueda a gplaces\n",
    "            coords=gmaps.geocode( address= busqueda)\n",
    "            nombre = coords[0]['address_components'][0]['short_name'] # nos quedamos con el nombre, que será el de la colección\n",
    "            a=coords[0][\"geometry\"][\"location\"][\"lat\"] \n",
    "            b=coords[0][\"geometry\"][\"location\"][\"lng\"]\n",
    "            c = str (a) +\",\" + str(b) # Formato que luego entienda foursquare\n",
    "            dic= {\"nombre\": nombre,\n",
    "                 \"coordenadas\": c}\n",
    "            test (c)\n",
    "            \n",
    "            db.create_collection (nombre)\n",
    "        \n",
    "    except: \"los datos introducidos no son correctos\"\n",
    "        \n",
    "    return  get_coords (nombre, dic)"
   ]
  },
  {
   "cell_type": "code",
   "execution_count": 208,
   "metadata": {},
   "outputs": [],
   "source": [
    "def get_coords(nombre, dic):\n",
    "    collection= nombre \n",
    "    db[collection].insert_one (dic)\n",
    "    coord= dic[\"coordenadas\"]\n",
    "    return get_data_fields (coord, collection)\n",
    "        "
   ]
  },
  {
   "cell_type": "code",
   "execution_count": null,
   "metadata": {},
   "outputs": [],
   "source": [
    "def get_data_fields (coord, collection):\n",
    "    tokf3 = os.getenv (\"tokf3\")\n",
    "    client = foursquare.Foursquare( access_token= tokf3 )\n",
    "    cantidad=[]\n",
    "    dic_insert={}\n",
    "    for categoria, codigo in dic_categorias.items():  \n",
    "        request = client.venues.search(params = {'query': codigo , 'll': coord, \"radius\": 1500, \"limit\": 50})\n",
    "        lista=request[\"venues\"]\n",
    "        cantidad= len (lista)\n",
    "        dice1={categoria: {\"número\":cantidad }}\n",
    "        dice=[]\n",
    "        for i in range (0,len (lista)): # para cada venue, sacame:\n",
    "            nombre = lista[i][\"name\"]\n",
    "            latitud= lista[i][\"location\"][\"lat\"]\n",
    "            longitud= lista[i][\"location\"][\"lng\"]\n",
    "            direccion= lista[i][\"location\"][\"formattedAddress\"]\n",
    "        \n",
    "            dice2 = {\"nombre\": nombre, \n",
    "               \"latitud\":latitud,\n",
    "               \"longitud\": longitud,\n",
    "               \"direccion\":direccion }\n",
    "            dice.append (dice2)          \n",
    "        \n",
    "        dice1[categoria].update ({\"listado\": dice})\n",
    "    db[\"collection\"].insert_one (dice1)\n",
    "    \n",
    "    return query"
   ]
  },
  {
   "cell_type": "code",
   "execution_count": 150,
   "metadata": {},
   "outputs": [
    {
     "data": {
      "text/plain": [
       "['Colonia',\n",
       " 'Washington D. C',\n",
       " 'ciudad',\n",
       " 'Nueva York',\n",
       " 'Osaka',\n",
       " 'Londres',\n",
       " 'Ciudad de México',\n",
       " 'Houston',\n",
       " 'Tokio',\n",
       " 'Chicago',\n",
       " '#16',\n",
       " 'Los Ángeles',\n",
       " 'Seúl',\n",
       " 'Dallas',\n",
       " 'París',\n",
       " 'Pekín',\n",
       " 'Shanghái',\n",
       " 'Moscú']"
      ]
     },
     "execution_count": 150,
     "metadata": {},
     "output_type": "execute_result"
    }
   ],
   "source": [
    "db.list_collection_names()"
   ]
  }
 ],
 "metadata": {
  "kernelspec": {
   "display_name": "Python 3",
   "language": "python",
   "name": "python3"
  },
  "language_info": {
   "codemirror_mode": {
    "name": "ipython",
    "version": 3
   },
   "file_extension": ".py",
   "mimetype": "text/x-python",
   "name": "python",
   "nbconvert_exporter": "python",
   "pygments_lexer": "ipython3",
   "version": "3.8.5"
  }
 },
 "nbformat": 4,
 "nbformat_minor": 4
}
